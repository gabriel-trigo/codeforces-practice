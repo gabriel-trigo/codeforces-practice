{
 "cells": [
  {
   "cell_type": "code",
   "execution_count": 2,
   "metadata": {},
   "outputs": [
    {
     "name": "stdout",
     "output_type": "stream",
     "text": [
      "12\n",
      "6\n",
      "4761\n",
      "381274500335\n"
     ]
    }
   ],
   "source": [
    "def problemA():\n",
    "\n",
    "    file = open(\"inputA.txt\")\n",
    "    read = file.readline\n",
    "\n",
    "    for _ in range(int(read().split()[0])):\n",
    "        n = int(read().split()[0])\n",
    "        arr = [int(x) for x in read().split()]\n",
    "        res = 0\n",
    "        for i in range(n - 1):\n",
    "            res = max(res, arr[i] * arr[i + 1])\n",
    "        print(res)\n",
    "problemA()"
   ]
  },
  {
   "cell_type": "code",
   "execution_count": 8,
   "metadata": {},
   "outputs": [
    {
     "name": "stdout",
     "output_type": "stream",
     "text": [
      "7\n",
      "9\n",
      "6\n"
     ]
    }
   ],
   "source": [
    "def problemB():\n",
    "\n",
    "    file = open(\"inputB.txt\")\n",
    "    read = file.readline\n",
    "\n",
    "    for _ in range(int(read().split()[0])):\n",
    "        s = read().split()[0]\n",
    "        cp = 0\n",
    "        cm = 0\n",
    "        res = 0\n",
    "        max_diff = 0\n",
    "        for l in s:\n",
    "            cp += l == \"+\"\n",
    "            cm += l == \"-\"\n",
    "            max_diff = max(max_diff, cm - cp)\n",
    "        max_diff = max_diff + 1\n",
    "        cp = 0\n",
    "        cm = 0\n",
    "        thresh = 0\n",
    "        for l in s:\n",
    "            res += (max_diff - thresh)\n",
    "            cp += l == \"+\"\n",
    "            cm += l == \"-\"\n",
    "            thresh = max(cm - cp, thresh)\n",
    "        print(res)\n",
    "problemB()"
   ]
  },
  {
   "cell_type": "code",
   "execution_count": 78,
   "metadata": {},
   "outputs": [
    {
     "name": "stdout",
     "output_type": "stream",
     "text": [
      "1\n",
      "2\n",
      "3\n",
      "3\n",
      "5\n",
      "4\n"
     ]
    }
   ],
   "source": [
    "import sys\n",
    "sys.setrecursionlimit(5000)\n",
    "def problemC():\n",
    "\n",
    "    file = open(\"inputC.txt\")\n",
    "    read = file.readline\n",
    "\n",
    "    # len(s) = 2 ** k\n",
    "    # len(dp) = 2 ** k\n",
    "    # 1 -> 2 ** k - 1\n",
    "\n",
    "    k = int(read().split()[0])\n",
    "    s = [l for l in \"_\" + read().split()[0][::-1]]\n",
    "    def populate_dp(arr, i):\n",
    "        if 2 * i > len(arr) - 1:\n",
    "            if s[i] == \"?\":\n",
    "                dp[i] = 2\n",
    "            else:\n",
    "                dp[i] = 1\n",
    "            return arr[i]\n",
    "        else:\n",
    "            if s[i] == \"?\":\n",
    "                res = populate_dp(arr, 2 * i) + populate_dp(arr, 2 * i + 1)\n",
    "            elif s[i] == \"1\":\n",
    "                res = populate_dp(arr, 2 * i)\n",
    "                populate_dp(arr, 2 * i + 1)\n",
    "            elif s[i] == \"0\":\n",
    "                res = populate_dp(arr, 2 * i + 1)\n",
    "                populate_dp(arr, 2 * i)\n",
    "            arr[i] = res\n",
    "            return res\n",
    "\n",
    "    def update(i):\n",
    "        while i > 0:\n",
    "            a = s[i]\n",
    "            if 2 * i > len(s) - 1:\n",
    "                if a == \"?\": dp[i] = 2\n",
    "                else: dp[i] = 1\n",
    "                i //= 2\n",
    "            else:\n",
    "                if a == \"?\": dp[i] = dp[2 * i] + dp[2 * i + 1]\n",
    "                if a == \"1\": dp[i] = dp[2 * i]\n",
    "                if a == \"0\": dp[i] = dp[2 * i + 1]\n",
    "                i //= 2\n",
    "        \"\"\"\n",
    "        a = s[i]\n",
    "        if 2 * i > len(s) - 1:\n",
    "            if a == \"?\": \n",
    "                dp[i] = 2\n",
    "            else:\n",
    "                dp[i] = 1\n",
    "            if i > 1: update(i // 2)\n",
    "            return\n",
    "        if a == \"?\":\n",
    "            dp[i] = dp[2 * i] + dp[2 * i + 1]\n",
    "        elif a == \"1\":\n",
    "            dp[i] = dp[2 * i]\n",
    "        elif a == \"0\":\n",
    "            dp[i] = dp[2 * i + 1]\n",
    "        if i > 1:\n",
    "            update(i // 2)\n",
    "        \"\"\"\n",
    "    \n",
    "    dp = [0] * (2 ** k)\n",
    "    populate_dp(dp, 1)\n",
    "    q = int(read().split()[0])\n",
    "    for __ in range(q):\n",
    "        a, sym = read().split()\n",
    "        a = int(a)\n",
    "        a = len(s) - a\n",
    "        s[a] = sym\n",
    "        update(a)\n",
    "        print(dp[1])\n",
    "\n",
    "problemC()"
   ]
  },
  {
   "cell_type": "code",
   "execution_count": 90,
   "metadata": {},
   "outputs": [
    {
     "name": "stdout",
     "output_type": "stream",
     "text": [
      "[1, 3, 7, 1, 21, 0]\n"
     ]
    }
   ],
   "source": [
    "from collections import defaultdict\n",
    "def problemG():\n",
    "\n",
    "    file = open(\"inputG.txt\")\n",
    "    read = file.readline\n",
    "\n",
    "    n = int(read().split()[0])\n",
    "    arr = [int(x) for x in read().split()]\n",
    "    pref = []\n",
    "    curr = 0\n",
    "    for el in arr:\n",
    "        curr = curr ^ el\n",
    "        pref.append(curr)\n",
    "    pref.append(0)\n",
    "    print(pref)\n",
    "\n",
    "problemG()\n",
    "    #l = 0\n",
    "    #r = n - 1\n",
    "    #while l <= r:\n",
    "    #    mid = (l + r) // 2"
   ]
  },
  {
   "cell_type": "code",
   "execution_count": 86,
   "metadata": {},
   "outputs": [
    {
     "data": {
      "text/plain": [
       "11"
      ]
     },
     "execution_count": 86,
     "metadata": {},
     "output_type": "execute_result"
    }
   ],
   "source": [
    "5^6^8"
   ]
  },
  {
   "cell_type": "code",
   "execution_count": null,
   "metadata": {},
   "outputs": [],
   "source": [
    "a b | c d | e f g|"
   ]
  }
 ],
 "metadata": {
  "kernelspec": {
   "display_name": ".venv",
   "language": "python",
   "name": "python3"
  },
  "language_info": {
   "codemirror_mode": {
    "name": "ipython",
    "version": 3
   },
   "file_extension": ".py",
   "mimetype": "text/x-python",
   "name": "python",
   "nbconvert_exporter": "python",
   "pygments_lexer": "ipython3",
   "version": "3.11.6"
  }
 },
 "nbformat": 4,
 "nbformat_minor": 2
}
