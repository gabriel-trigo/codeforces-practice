{
 "cells": [
  {
   "cell_type": "code",
   "execution_count": 1,
   "metadata": {},
   "outputs": [
    {
     "name": "stdout",
     "output_type": "stream",
     "text": [
      "Hey\n"
     ]
    }
   ],
   "source": [
    "print(\"Hey\")"
   ]
  },
  {
   "cell_type": "code",
   "execution_count": null,
   "metadata": {},
   "outputs": [],
   "source": []
  },
  {
   "cell_type": "code",
   "execution_count": 21,
   "metadata": {},
   "outputs": [
    {
     "name": "stdout",
     "output_type": "stream",
     "text": [
      "1 2\n",
      "1 3 2\n",
      "1 6 7 10 2 5 8 9 3 4\n",
      "1 7 8 13 2 6 9 12 3 5 10 11 4\n",
      "1 4 5 7 2 3 6\n"
     ]
    }
   ],
   "source": [
    "def problemE():\n",
    "\n",
    "    file = open(\"inputE.txt\")\n",
    "    read = file.readline\n",
    "\n",
    "    for _ in range(int(read().split()[0])):\n",
    "        n, k = [int(x) for x in read().split()]\n",
    "        base = n // k\n",
    "        rem = n % k\n",
    "        groups = [[] for ___ in range(k)]\n",
    "        i = 1\n",
    "        for g in range(rem):\n",
    "            for ___ in range(base + 1):\n",
    "                groups[g].append(i)\n",
    "                i += 1\n",
    "        for g in range(rem, k):\n",
    "            for ___ in range(base):\n",
    "                groups[g].append(i)\n",
    "                i += 1\n",
    "        res = [groups[g][0] if (not (g % 2)) else groups[g][-1] for g in range(k)]\n",
    "        boo = True\n",
    "        while len(res) < n:\n",
    "            if boo: \n",
    "                res.append(res[-k] + 1)\n",
    "                boo = False\n",
    "            else:\n",
    "                res.append(res[-k] - 1)\n",
    "                boo = True\n",
    "        print(\" \".join([str(el) for el in res]))\n",
    "\n",
    "problemE()"
   ]
  },
  {
   "cell_type": "code",
   "execution_count": 28,
   "metadata": {},
   "outputs": [
    {
     "name": "stdout",
     "output_type": "stream",
     "text": [
      "1 3\n",
      "1 2 3\n",
      "3 3\n",
      "4 5 6\n",
      "1 3\n",
      "5 1 6\n",
      "1 3\n",
      "4 3 1\n",
      "3 3\n",
      "3 1 2\n"
     ]
    }
   ],
   "source": [
    "class UnionFind:\n",
    "\n",
    "    def __init__(self, n):\n",
    "        self.reps = {}\n",
    "        for i in range(1, n + 1):\n",
    "            self.reps[i] = i\n",
    "    \n",
    "    def find(self, x):\n",
    "        if self.reps[x] == x: return x\n",
    "        else:\n",
    "            res = self.find(self.reps[x])\n",
    "            self.reps[x] = res\n",
    "            return res\n",
    "        \n",
    "    def merge(self, x, y):\n",
    "        rep_x = self.find(x)\n",
    "        rep_y = self.find(y)\n",
    "        if rep_x > rep_y:\n",
    "            self.reps[rep_y] = rep_x\n",
    "        else:\n",
    "            self.reps[rep_x] = rep_y\n",
    "\n",
    "    def connected(self, x, y):\n",
    "        return self.find(x) == self.find(y)\n",
    "\n",
    "from collections import deque  \n",
    "\n",
    "def bfs(s, e, adj_list):\n",
    "    prev = {}\n",
    "    prev[s] = None\n",
    "    q = deque([s])\n",
    "    while q:\n",
    "        pop = q.popleft()\n",
    "        if pop == e: break\n",
    "        for nei in adj_list[pop]:\n",
    "            if nei in prev or (pop == s and nei == e): continue\n",
    "            prev[nei] = pop\n",
    "            q.append(nei)\n",
    "    curr = e\n",
    "    res = [e]\n",
    "    while prev[curr] != None:\n",
    "        res.append(prev[curr])\n",
    "        curr = prev[curr]\n",
    "    return res\n",
    "\n",
    "\n",
    "\n",
    "\n",
    "def problemF():\n",
    "\n",
    "    file = open(\"inputF.txt\")\n",
    "    read = file.readline\n",
    "\n",
    "    for _ in range(int(read().split()[0])):\n",
    "        n, m = [int(x) for x in read().split()]\n",
    "        edges = []\n",
    "        adj_list = [[] for ___ in range(n + 1)]\n",
    "        for __ in range(m):\n",
    "            u, v, w = [int(x) for x in read().split()]\n",
    "            edges.append([u, v, w])\n",
    "            adj_list[u].append(v)\n",
    "            adj_list[v].append(u)\n",
    "        prev = {}\n",
    "        edges = sorted(edges, key=lambda x: -x[2])\n",
    "        Uf = UnionFind(n)\n",
    "        res = 10e30\n",
    "        res_pair = [None, None]\n",
    "        for a, b, c in edges:\n",
    "            if Uf.connected(a, b):\n",
    "                if c < res:\n",
    "                    res = c\n",
    "                    res_pair = [a, b]\n",
    "            Uf.merge(a, b)\n",
    "\n",
    "\n",
    "        path = bfs(res_pair[0], res_pair[1], adj_list)\n",
    "        print(res, len(path))\n",
    "        print(\" \".join([str(el) for el in path]))\n",
    "problemF()"
   ]
  },
  {
   "cell_type": "code",
   "execution_count": 9,
   "metadata": {},
   "outputs": [
    {
     "data": {
      "text/plain": [
       "2"
      ]
     },
     "execution_count": 9,
     "metadata": {},
     "output_type": "execute_result"
    }
   ],
   "source": []
  }
 ],
 "metadata": {
  "kernelspec": {
   "display_name": ".venv",
   "language": "python",
   "name": "python3"
  },
  "language_info": {
   "codemirror_mode": {
    "name": "ipython",
    "version": 3
   },
   "file_extension": ".py",
   "mimetype": "text/x-python",
   "name": "python",
   "nbconvert_exporter": "python",
   "pygments_lexer": "ipython3",
   "version": "3.11.6"
  }
 },
 "nbformat": 4,
 "nbformat_minor": 2
}
