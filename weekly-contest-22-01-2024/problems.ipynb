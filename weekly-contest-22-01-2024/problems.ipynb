{
 "cells": [
  {
   "cell_type": "code",
   "execution_count": 12,
   "metadata": {},
   "outputs": [
    {
     "name": "stdout",
     "output_type": "stream",
     "text": [
      "3\n",
      "2 2 2\n"
     ]
    }
   ],
   "source": [
    "def problemA():\n",
    "    \n",
    "    file = open(\"inputA.txt\")\n",
    "    read = file.readline\n",
    "\n",
    "    n = int(read().split()[0])\n",
    "    if n % 2:\n",
    "        if (n // 2 - 1): \n",
    "            print(1 + (n // 2 - 1))\n",
    "            print(\" \".join(['2'] * (n // 2 - 1) + ['3']))\n",
    "        else:\n",
    "            print(1) \n",
    "            print(\"3\")\n",
    "    else: \n",
    "        print(n // 2)\n",
    "        print(\" \".join(['2'] * (n // 2)))\n",
    "\n",
    "problemA()"
   ]
  },
  {
   "cell_type": "code",
   "execution_count": 6,
   "metadata": {},
   "outputs": [
    {
     "name": "stdout",
     "output_type": "stream",
     "text": [
      "-1\n",
      "baacaba\n",
      "xdd\n"
     ]
    }
   ],
   "source": [
    "def problemB():\n",
    "\n",
    "    file = open(\"inputB.txt\")\n",
    "    read = file.readline\n",
    "\n",
    "    for _ in range(int(read().split()[0])):\n",
    "        word = read().split()[0]\n",
    "        if len(set(word)) == 1:\n",
    "            print(-1)\n",
    "            continue\n",
    "        if word != word[::-1]:\n",
    "            print(word)\n",
    "            continue\n",
    "        c1 = word[0]\n",
    "        for i, l in enumerate(word):\n",
    "            if l != c1: break\n",
    "        print(l + word[1:i] + c1 + word[i + 1:])\n",
    "\n",
    "problemB()\n",
    "    "
   ]
  },
  {
   "cell_type": "code",
   "execution_count": 18,
   "metadata": {},
   "outputs": [
    {
     "name": "stdout",
     "output_type": "stream",
     "text": [
      "5\n",
      "3\n",
      "3\n",
      "3\n",
      "1999999999000000000\n"
     ]
    }
   ],
   "source": [
    "def problemC():\n",
    "\n",
    "    file = open(\"inputC.txt\")\n",
    "    read = file.readline\n",
    "\n",
    "    for _ in range(int(read().split()[0])):\n",
    "        n, x, t = [int(x) for x in read().split()]\n",
    "        res = 0\n",
    "        val = min(t // x, n - 1)\n",
    "\n",
    "        res += val * (n - (val + 1))\n",
    "        res += ((val) * (val + 1)) // 2\n",
    "        print(res)\n",
    "problemC()\n",
    "# print(sum(range(0, 10)))"
   ]
  },
  {
   "cell_type": "code",
   "execution_count": null,
   "metadata": {},
   "outputs": [],
   "source": [
    "from collections import Counter\n",
    "\n",
    "def UnionFind():\n",
    "\n",
    "    def __init__(self, arr):\n",
    "        self.reps = {}\n",
    "        count = Counter(arr)\n",
    "        n = len(arr)\n",
    "        for i in range(n):\n",
    "            self.reps[i] = count[arr[i]]\n",
    "\n",
    "            \n",
    "    \n",
    "\n",
    "\n",
    "def problemD():\n",
    "    \n",
    "    file = open(\"inputD.txt\")\n",
    "    read = file.readline\n",
    "\n",
    "    for _ in range(int(read().split()[0])):\n",
    "        n = int(read().split()[0])\n",
    "        arr = [int(x) for x in read().split()]\n",
    "        q = int(read().split()[0])\n"
   ]
  },
  {
   "cell_type": "code",
   "execution_count": 9,
   "metadata": {},
   "outputs": [
    {
     "name": "stdout",
     "output_type": "stream",
     "text": [
      "1 1 1\n",
      "4 2 2\n",
      "2 6 6\n"
     ]
    }
   ],
   "source": [
    "def problemE():\n",
    "\n",
    "    file = open(\"inputE.txt\")\n",
    "    read = file.readline\n",
    "\n",
    "    for _ in range(int(read().split()[0])):\n",
    "        n, k = [int(x) for x in read().split()]\n",
    "        if n % 2:\n",
    "            print(1, (n - 1)//2, (n - 1)//2)\n",
    "        else:\n",
    "            if ((n - 2) // 2) % 2:\n",
    "                print(n // 2, n // 4, n // 4)\n",
    "            else:\n",
    "                print(2, (n - 2) // 2, (n - 2) // 2)\n",
    "\n",
    "problemE()\n",
    "    "
   ]
  },
  {
   "cell_type": "code",
   "execution_count": null,
   "metadata": {},
   "outputs": [],
   "source": [
    "def problemG():\n",
    "\n",
    "    MOD = 998244353\n",
    "    file = open(\"inputG.txt\")\n",
    "    read = file.readline\n",
    "    \n",
    "    for _ in range(int(read().split()[0])):\n",
    "        n = int(read().split()[0])\n",
    "        "
   ]
  },
  {
   "cell_type": "code",
   "execution_count": 48,
   "metadata": {},
   "outputs": [
    {
     "ename": "SyntaxError",
     "evalue": "incomplete input (1694760628.py, line 1)",
     "output_type": "error",
     "traceback": [
      "\u001b[0;36m  Cell \u001b[0;32mIn[48], line 1\u001b[0;36m\u001b[0m\n\u001b[0;31m    def problemH():\u001b[0m\n\u001b[0m                   ^\u001b[0m\n\u001b[0;31mSyntaxError\u001b[0m\u001b[0;31m:\u001b[0m incomplete input\n"
     ]
    }
   ],
   "source": [
    "def problemH():\n",
    "\n",
    "    file = open(\"inputH.txt\")\n",
    "    read = file.readline\n",
    "\n",
    "    for _ in range(int(read().split()[0])):\n",
    "        "
   ]
  },
  {
   "cell_type": "code",
   "execution_count": 49,
   "metadata": {},
   "outputs": [
    {
     "ename": "KeyboardInterrupt",
     "evalue": "",
     "output_type": "error",
     "traceback": [
      "\u001b[0;31m---------------------------------------------------------------------------\u001b[0m",
      "\u001b[0;31mKeyboardInterrupt\u001b[0m                         Traceback (most recent call last)",
      "Cell \u001b[0;32mIn[49], line 61\u001b[0m\n\u001b[1;32m     59\u001b[0m         tree\u001b[38;5;241m.\u001b[39mupdate(\u001b[38;5;241m1\u001b[39m, \u001b[38;5;241m0\u001b[39m, n \u001b[38;5;241m-\u001b[39m \u001b[38;5;241m1\u001b[39m, i, (val \u001b[38;5;241m*\u001b[39m x))\n\u001b[1;32m     60\u001b[0m         \u001b[38;5;28mprint\u001b[39m(tree\u001b[38;5;241m.\u001b[39mquery(\u001b[38;5;241m1\u001b[39m, \u001b[38;5;241m0\u001b[39m, n \u001b[38;5;241m-\u001b[39m \u001b[38;5;241m1\u001b[39m, \u001b[38;5;241m0\u001b[39m, n \u001b[38;5;241m-\u001b[39m \u001b[38;5;241m1\u001b[39m) \u001b[38;5;241m%\u001b[39m MOD)\n\u001b[0;32m---> 61\u001b[0m \u001b[43mproblemN\u001b[49m\u001b[43m(\u001b[49m\u001b[43m)\u001b[49m\n",
      "Cell \u001b[0;32mIn[49], line 51\u001b[0m, in \u001b[0;36mproblemN\u001b[0;34m()\u001b[0m\n\u001b[1;32m     48\u001b[0m read \u001b[38;5;241m=\u001b[39m file\u001b[38;5;241m.\u001b[39mreadline\n\u001b[1;32m     49\u001b[0m MOD \u001b[38;5;241m=\u001b[39m \u001b[38;5;241m10\u001b[39m \u001b[38;5;241m*\u001b[39m\u001b[38;5;241m*\u001b[39m \u001b[38;5;241m9\u001b[39m \u001b[38;5;241m+\u001b[39m \u001b[38;5;241m7\u001b[39m\n\u001b[0;32m---> 51\u001b[0m n, q \u001b[38;5;241m=\u001b[39m [\u001b[38;5;28mint\u001b[39m(x) \u001b[38;5;28;01mfor\u001b[39;00m x \u001b[38;5;129;01min\u001b[39;00m \u001b[43mread\u001b[49m\u001b[43m(\u001b[49m\u001b[43m)\u001b[49m\u001b[38;5;241m.\u001b[39msplit()]\n\u001b[1;32m     52\u001b[0m a \u001b[38;5;241m=\u001b[39m [\u001b[38;5;28mint\u001b[39m(x) \u001b[38;5;28;01mfor\u001b[39;00m x \u001b[38;5;129;01min\u001b[39;00m read()\u001b[38;5;241m.\u001b[39msplit()]\n\u001b[1;32m     54\u001b[0m tree \u001b[38;5;241m=\u001b[39m SegTree(a, comp, \u001b[38;5;28;01mNone\u001b[39;00m)\n",
      "\u001b[0;31mKeyboardInterrupt\u001b[0m: "
     ]
    }
   ],
   "source": [
    "class SegTree:\n",
    "    def __init__(self, a, comp, default):\n",
    "        n = len(a)\n",
    "        self.comp = comp\n",
    "        self.default = default\n",
    "        self.t = [default] * (4 * n)\n",
    "        self.build(a, 1, 0, n - 1)\n",
    "\n",
    "    def build(self, a, v, tl, tr):\n",
    "        if tl == tr: self.t[v] = a[tl]\n",
    "        else:\n",
    "            tm = (tl + tr) // 2\n",
    "            self.build(a, v * 2, tl, tm)\n",
    "            self.build(a, v * 2 + 1, tm + 1, tr)\n",
    "            self.t[v] = self.comp(self.t[2 * v], self.t[2 * v + 1])\n",
    "\n",
    "    def query(self, v, tl, tr, l, r):\n",
    "        if l > r: return self.default\n",
    "        if l == tl and r == tr: return self.t[v]\n",
    "        tm = (tl + tr) // 2\n",
    "        return self.comp(\n",
    "            self.query(v * 2, tl, tm, l, min(r, tm)), \n",
    "            self.query(v * 2 + 1, tm + 1, tr, max(l, tm + 1), r)\n",
    "        )\n",
    "    \n",
    "    def update(self, v, tl, tr, pos, new_val):\n",
    "        if tl == tr: self.t[v] = new_val\n",
    "        else:\n",
    "            tm = (tl + tr) // 2\n",
    "            if pos <= tm: self.update(2 * v, tl, tm, pos, new_val)\n",
    "            else: self.update(2 * v + 1, tm + 1, tr, pos, new_val)\n",
    "            self.t[v] = self.comp(self.t[2 * v], self.t[2 * v + 1])\n",
    "\n",
    "import sys\n",
    "from math import gcd\n",
    "MOD = 10 ** 9 + 7\n",
    "\n",
    "def comp(x, y):\n",
    "    if x == None and y == None:\n",
    "        return None\n",
    "    if y == None: return x\n",
    "    if x == None: return y\n",
    "    return gcd(x, y)\n",
    "\n",
    "def problemN():\n",
    "\n",
    "    file = sys.stdin\n",
    "    read = file.readline\n",
    "    MOD = 10 ** 9 + 7\n",
    "\n",
    "    n, q = [int(x) for x in read().split()]\n",
    "    a = [int(x) for x in read().split()]\n",
    "\n",
    "    tree = SegTree(a, comp, None)\n",
    "    for i in range(q):\n",
    "        i, x = [int(x) for x in read().split()]\n",
    "        i -= 1\n",
    "        val = tree.query(1, 0, n - 1, i, i)\n",
    "        tree.update(1, 0, n - 1, i, (val * x))\n",
    "        print(tree.query(1, 0, n - 1, 0, n - 1) % MOD)\n",
    "problemN()\n"
   ]
  },
  {
   "cell_type": "code",
   "execution_count": 47,
   "metadata": {},
   "outputs": [
    {
     "data": {
      "text/plain": [
       "4"
      ]
     },
     "execution_count": 47,
     "metadata": {},
     "output_type": "execute_result"
    }
   ],
   "source": [
    "pow(2, 2, 7)"
   ]
  },
  {
   "cell_type": "code",
   "execution_count": 61,
   "metadata": {},
   "outputs": [
    {
     "name": "stdout",
     "output_type": "stream",
     "text": [
      "6\n",
      "1\n",
      "0\n",
      "3\n",
      "0\n"
     ]
    }
   ],
   "source": [
    "from sortedcontainers import SortedList\n",
    "\n",
    "def problemH():\n",
    "\n",
    "    file = open(\"inputH.txt\")\n",
    "    read = file.readline\n",
    "\n",
    "    for _ in range(int(read().split()[0])):\n",
    "\n",
    "        n = int(read().split()[0])\n",
    "        arr = [int(x) for x in read().split()]\n",
    "        sl = SortedList()\n",
    "        res = 0\n",
    "\n",
    "        for i in range(n, 0, -1):\n",
    "            sl.add(arr[i - 1])\n",
    "            # print(sl)\n",
    "            res += sl.bisect_right(arr[i - 1]) - 1\n",
    "            # print(res)\n",
    "        print(res)\n",
    "problemH()"
   ]
  },
  {
   "cell_type": "code",
   "execution_count": null,
   "metadata": {},
   "outputs": [],
   "source": []
  }
 ],
 "metadata": {
  "kernelspec": {
   "display_name": ".venv",
   "language": "python",
   "name": "python3"
  },
  "language_info": {
   "codemirror_mode": {
    "name": "ipython",
    "version": 3
   },
   "file_extension": ".py",
   "mimetype": "text/x-python",
   "name": "python",
   "nbconvert_exporter": "python",
   "pygments_lexer": "ipython3",
   "version": "3.11.6"
  }
 },
 "nbformat": 4,
 "nbformat_minor": 2
}
