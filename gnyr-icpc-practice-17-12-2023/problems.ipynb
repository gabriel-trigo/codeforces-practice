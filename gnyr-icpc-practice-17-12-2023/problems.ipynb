{
 "cells": [
  {
   "cell_type": "code",
   "execution_count": 6,
   "metadata": {},
   "outputs": [
    {
     "name": "stdout",
     "output_type": "stream",
     "text": [
      "1 1\n",
      "-1\n",
      "4 6\n",
      "166374058999707392 249561088499561088\n",
      "1 1\n"
     ]
    }
   ],
   "source": [
    "def problemA():\n",
    "\n",
    "    file = open(\"inputA.txt\")\n",
    "    read = file.readline\n",
    "\n",
    "    for _ in range(int(read().split()[0])):\n",
    "        \n",
    "        n = int(read().split()[0])\n",
    "        if n % 2 or n < 4:\n",
    "            print(-1)\n",
    "            continue\n",
    "\n",
    "        print(n//6 + int(bool(n%6)), n//4)\n",
    "\n",
    "problemA()"
   ]
  },
  {
   "cell_type": "code",
   "execution_count": 14,
   "metadata": {},
   "outputs": [
    {
     "name": "stdout",
     "output_type": "stream",
     "text": [
      "ac\n",
      "f\n",
      "b\n"
     ]
    }
   ],
   "source": [
    "def problemB():\n",
    "    \n",
    "    file = open(\"inputB.txt\")\n",
    "    read = file.readline\n",
    "\n",
    "    def all_words(size):\n",
    "        if size == 1:\n",
    "            return [c for c in \"abcdefghijklmnopqrstuvwxyz\"]\n",
    "        res = []\n",
    "        for word in all_words(size - 1):\n",
    "            for c in \"abcdefghijklmnopqrstuvwxyz\":\n",
    "                res.append(word + c)\n",
    "        return res\n",
    "    \n",
    "    words = []\n",
    "    for l in range(1, 4):\n",
    "        words += all_words(l)\n",
    "    for _ in range(int(read().split()[0])):\n",
    "        read()\n",
    "        x = read().split()[0]\n",
    "        for w in words:\n",
    "            if w not in x:\n",
    "                print(w)\n",
    "                break\n",
    "\n",
    "problemB()"
   ]
  }
 ],
 "metadata": {
  "kernelspec": {
   "display_name": ".venv",
   "language": "python",
   "name": "python3"
  },
  "language_info": {
   "codemirror_mode": {
    "name": "ipython",
    "version": 3
   },
   "file_extension": ".py",
   "mimetype": "text/x-python",
   "name": "python",
   "nbconvert_exporter": "python",
   "pygments_lexer": "ipython3",
   "version": "3.11.6"
  }
 },
 "nbformat": 4,
 "nbformat_minor": 2
}
