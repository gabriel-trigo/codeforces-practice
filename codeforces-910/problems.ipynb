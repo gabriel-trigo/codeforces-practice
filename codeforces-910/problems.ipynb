{
 "cells": [
  {
   "cell_type": "code",
   "execution_count": 3,
   "metadata": {},
   "outputs": [
    {
     "name": "stdout",
     "output_type": "stream",
     "text": [
      "0\n",
      "1\n",
      "1 B\n",
      "1\n",
      "5 A\n",
      "1\n",
      "1 A\n",
      "1\n",
      "6 A\n"
     ]
    }
   ],
   "source": [
    "from collections import Counter\n",
    "def problemA():\n",
    "\n",
    "    file = open(\"inputA.txt\")\n",
    "    read = file.readline\n",
    "    for _ in range(int(read().split()[0])):\n",
    "        line = read().split()\n",
    "        n, k = int(line[0]), int(line[1])\n",
    "        text = read().split()[0]\n",
    "        count = Counter(text)\n",
    "        if count[\"B\"] == k: \n",
    "            print(0)\n",
    "            continue\n",
    "        if count[\"B\"] < k:\n",
    "            ca = 0\n",
    "            i = 0\n",
    "            while ca < (k - count[\"B\"]):\n",
    "                if text[i] == \"A\":\n",
    "                    ca += 1\n",
    "                i += 1\n",
    "            print(1)\n",
    "            print(i, \"B\")\n",
    "        if count[\"B\"] > k:\n",
    "            cb = 0\n",
    "            i = 0\n",
    "            while cb < (count[\"B\"] - k):\n",
    "                if text[i] == \"B\":\n",
    "                    cb += 1\n",
    "                i += 1\n",
    "            print(1)\n",
    "            print(i, \"A\")\n",
    "\n",
    "problemA()\n"
   ]
  },
  {
   "cell_type": "code",
   "execution_count": 5,
   "metadata": {},
   "outputs": [
    {
     "name": "stdout",
     "output_type": "stream",
     "text": [
      "1\n",
      "0\n",
      "3\n",
      "9\n"
     ]
    }
   ],
   "source": [
    "import math\n",
    "def problemB():\n",
    "    \n",
    "    file = open(\"inputB.txt\")\n",
    "    read = file.readline\n",
    "\n",
    "    for _ in range(int(read().split()[0])):\n",
    "        n = int(read().split()[0])\n",
    "        arr = [int(x) for x in read().split()]\n",
    "        stack = []\n",
    "        res = 0\n",
    "        while arr:\n",
    "            if not stack or arr[-1] <= stack[-1]:\n",
    "                stack.append(arr.pop())\n",
    "                continue\n",
    "            if arr[-1] > stack[-1]:\n",
    "                largest_pos = stack[-1]\n",
    "                num = math.ceil(arr[-1] / largest_pos)\n",
    "                val = math.ceil(arr[-1] / num)\n",
    "                if val != arr[-1] / num:\n",
    "                    stack.append(val - 1)\n",
    "                else:\n",
    "                    stack.append(val)\n",
    "                arr.pop()\n",
    "                res += (num - 1)\n",
    "        print(res)\n",
    "problemB()\n"
   ]
  },
  {
   "cell_type": "code",
   "execution_count": 33,
   "metadata": {},
   "outputs": [
    {
     "name": "stdout",
     "output_type": "stream",
     "text": [
      "YES\n",
      "B R B R\n",
      "B R B R\n",
      "B R B R\n",
      "B R B R\n",
      "R R B B B\n",
      "R R R R R\n",
      "R R B B B\n",
      "NO\n",
      "NO\n",
      "YES\n",
      "B R\n",
      "B R\n",
      "B R\n",
      "R R B\n",
      "R R R\n",
      "YES\n",
      "B R B\n",
      "B R B\n",
      "B R B\n",
      "B R B\n",
      "R R R R\n",
      "R R B B\n",
      "R R R R\n"
     ]
    }
   ],
   "source": [
    "def problemC():\n",
    "\n",
    "    file = open(\"inputC.txt\")\n",
    "    read = file.readline\n",
    "\n",
    "    for _ in range(int(read().split()[0])):\n",
    "        line = read().split()\n",
    "        n, m, k = int(line[0]), int(line[1]), int(line[2])\n",
    "        l = (n + m - 2)\n",
    "        if k < l:\n",
    "            print(\"NO\")\n",
    "            continue\n",
    "        if (not (k & 1)) and (l & 1):\n",
    "            print(\"NO\")\n",
    "            continue\n",
    "        if (k & 1) and (not(l & 1)):\n",
    "            print(\"NO\")\n",
    "            continue\n",
    "        else:\n",
    "            print(\"YES\")\n",
    "            row = []\n",
    "            for i in range(m - 1):\n",
    "                if not row or row[-1] == \"R\":\n",
    "                    row.append(\"B\")\n",
    "                else:\n",
    "                    row.append(\"R\")\n",
    "            col1 = [\"R\", \"R\"] + [\"B\"] * (m - 2)\n",
    "            col2 = [\"R\"] * m\n",
    "            for i in range(n):\n",
    "                print(\" \".join(row))\n",
    "            for i in range(n - 1):\n",
    "                if row[-1] == \"B\":\n",
    "                    if i % 2:\n",
    "                        print(\" \".join(col1))\n",
    "                    else:\n",
    "                        print(\" \".join(col2))\n",
    "                else:\n",
    "                    if i % 2:\n",
    "                        print(\" \".join(col2))\n",
    "                    else:\n",
    "                        print(\" \".join(col1))\n",
    "\n",
    "problemC()\n",
    "            "
   ]
  },
  {
   "cell_type": "code",
   "execution_count": null,
   "metadata": {},
   "outputs": [],
   "source": [
    "def problemD():\n",
    "    file = open(\"inputD.txt\")\n",
    "    read = file.readline\n",
    "\n",
    "    for _ in range(int(read().split()[0])):\n",
    "        n = int(read().split()[0])\n",
    "        a = [int(x) for x in read().split()]\n",
    "        b = [int(x) for x in read().split()]\n",
    "\n",
    "        des = []\n",
    "        for i in range(len(a)):\n",
    "            des.append((i, b[i] - a[i]))\n",
    "        \n",
    "        "
   ]
  }
 ],
 "metadata": {
  "kernelspec": {
   "display_name": ".venv",
   "language": "python",
   "name": "python3"
  },
  "language_info": {
   "codemirror_mode": {
    "name": "ipython",
    "version": 3
   },
   "file_extension": ".py",
   "mimetype": "text/x-python",
   "name": "python",
   "nbconvert_exporter": "python",
   "pygments_lexer": "ipython3",
   "version": "3.11.6"
  }
 },
 "nbformat": 4,
 "nbformat_minor": 2
}
