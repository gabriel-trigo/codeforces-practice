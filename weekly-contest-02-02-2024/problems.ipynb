{
 "cells": [
  {
   "cell_type": "code",
   "execution_count": 16,
   "metadata": {},
   "outputs": [
    {
     "name": "stdout",
     "output_type": "stream",
     "text": [
      "5\n",
      "3\n",
      "2\n",
      "3\n"
     ]
    }
   ],
   "source": [
    "from bisect import bisect_right\n",
    "def problemG():\n",
    "\n",
    "    file = open(\"inputG.txt\")\n",
    "    read = file.readline\n",
    "\n",
    "    for _ in range(int(read().split()[0])):\n",
    "        n = int(read().split()[0])\n",
    "        a = [[int(x), i] for i, x in enumerate(read().split())]\n",
    "        b = [int(x)for x in read().split()]\n",
    "\n",
    "        a = sorted(a, key=lambda x: x[0])\n",
    "        bb = [-1] * len(a)\n",
    "        for i in range(n):\n",
    "            bb[i] = b[a[i][1]]\n",
    "\n",
    "        s = 0\n",
    "        csum = []\n",
    "        for el in bb:\n",
    "            s += el\n",
    "            csum.append(s)\n",
    "\n",
    "        curr = s\n",
    "        res = s\n",
    "        for ael, bel in zip(a, bb):\n",
    "            curr -= bel\n",
    "            res = min(max(curr, ael[0]), res)\n",
    "            #print(curr, ael[0])\n",
    "        \n",
    "        print(res)\n",
    "\n",
    "problemG()\n"
   ]
  },
  {
   "cell_type": "code",
   "execution_count": null,
   "metadata": {},
   "outputs": [],
   "source": []
  }
 ],
 "metadata": {
  "kernelspec": {
   "display_name": ".venv",
   "language": "python",
   "name": "python3"
  },
  "language_info": {
   "codemirror_mode": {
    "name": "ipython",
    "version": 3
   },
   "file_extension": ".py",
   "mimetype": "text/x-python",
   "name": "python",
   "nbconvert_exporter": "python",
   "pygments_lexer": "ipython3",
   "version": "3.11.6"
  }
 },
 "nbformat": 4,
 "nbformat_minor": 2
}
