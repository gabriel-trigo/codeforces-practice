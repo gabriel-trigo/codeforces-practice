{
 "cells": [
  {
   "cell_type": "markdown",
   "metadata": {},
   "source": [
    "# Problem D\n",
    "You are given 𝑛 strings 𝑠1,𝑠2,…,𝑠𝑛 of length at most 8.\n",
    "\n",
    "For each string 𝑠𝑖, determine if there exist two strings 𝑠𝑗 and 𝑠𝑘 such that 𝑠𝑖=𝑠𝑗+𝑠𝑘. That is, 𝑠𝑖 is the concatenation of 𝑠𝑗 and 𝑠𝑘. Note that 𝑗 can be equal to 𝑘.\n",
    "\n",
    "Recall that the concatenation of strings 𝑠 and 𝑡 is 𝑠+𝑡=𝑠1𝑠2…𝑠𝑝𝑡1𝑡2…𝑡𝑞, where 𝑝 and 𝑞 are the lengths of strings 𝑠 and 𝑡 respectively. For example, concatenation of \"code\" and \"forces\" is \"codeforces\".\n",
    "\n",
    "Input\n",
    "The first line contains a single integer 𝑡 (1≤𝑡≤104) — the number of test cases.\n",
    "\n",
    "The first line of each test case contains a single integer 𝑛 (1≤𝑛≤105) — the number of strings.\n",
    "\n",
    "Then 𝑛 lines follow, the 𝑖-th of which contains non-empty string 𝑠𝑖 of length at most 8, consisting of lowercase English letters. Among the given 𝑛 strings, there may be equal (duplicates).\n",
    "\n",
    "The sum of 𝑛 over all test cases doesn't exceed 105.\n",
    "\n",
    "Output\n",
    "For each test case, output a binary string of length 𝑛. The 𝑖-th bit should be 𝟷 if there exist two strings 𝑠𝑗 and 𝑠𝑘 where 𝑠𝑖=𝑠𝑗+𝑠𝑘, and 𝟶 otherwise. Note that 𝑗 can be equal to 𝑘."
   ]
  },
  {
   "cell_type": "code",
   "execution_count": 9,
   "metadata": {},
   "outputs": [
    {
     "name": "stdout",
     "output_type": "stream",
     "text": [
      "10100\n",
      "011\n",
      "10100101\n"
     ]
    }
   ],
   "source": [
    "def problemD():\n",
    "\n",
    "    file = open(\"inputD.txt\")\n",
    "    read = file.readline\n",
    "    for _ in range(int(read().split()[0])):\n",
    "        n = int(read().split()[0])\n",
    "        wordsl = []\n",
    "        words = set()\n",
    "        for _ in range(n):\n",
    "            w = read().split()[0]\n",
    "            wordsl.append(w)\n",
    "            words.add(w)\n",
    "        res = []\n",
    "        for word in wordsl:\n",
    "            boo = True\n",
    "            for i in range(1, len(word)):\n",
    "                if word[:i] in words and word[i:] in words:\n",
    "                    res.append(str(1))\n",
    "                    boo = False\n",
    "                    break\n",
    "            if boo:\n",
    "                res.append(str(0))\n",
    "        print(\"\".join(res))\n",
    "\n",
    "problemD()\n",
    "        \n"
   ]
  },
  {
   "cell_type": "code",
   "execution_count": 28,
   "metadata": {},
   "outputs": [
    {
     "name": "stdout",
     "output_type": "stream",
     "text": [
      "2 1 3 4\n"
     ]
    }
   ],
   "source": [
    "import heapq\n",
    "def problemG():\n",
    "    \n",
    "    file = open(\"inputG.txt\")\n",
    "    read = file.readline\n",
    "    i = 1\n",
    "    res = []\n",
    "    monoq = []\n",
    "    polyq = []\n",
    "    deleted = set()\n",
    "    for _ in range(int(read().split()[0])):\n",
    "        q = read().split()\n",
    "        if len(q) == 2:\n",
    "            heapq.heappush(monoq, i)\n",
    "            heapq.heappush(polyq, (i*0.0000001-int(q[1]), i))\n",
    "            i += 1\n",
    "        else:\n",
    "            if q[0] == '2':\n",
    "                while True:\n",
    "                    removed = heapq.heappop(monoq)\n",
    "                    if removed not in deleted: break\n",
    "            else:\n",
    "                while True:\n",
    "                    removed = heapq.heappop(polyq)\n",
    "                    if removed[1] not in deleted: \n",
    "                        removed = removed[1]\n",
    "                        break\n",
    "            res.append(str(removed))\n",
    "            deleted.add(removed)\n",
    "    print(\" \".join(res))\n",
    "problemG()"
   ]
  },
  {
   "cell_type": "markdown",
   "metadata": {},
   "source": [
    "# Problem J\n",
    "This is an interactive problem.\n",
    "\n",
    "Alice and Bob are playing a game. There is 𝑛×𝑛 grid, initially empty. We refer to the cell in row 𝑖 and column 𝑗 by (𝑖,𝑗) for 1≤𝑖,𝑗≤𝑛. There is an infinite supply of tokens that come in 3 colors labelled 1, 2, and 3.\n",
    "\n",
    "The game proceeds with turns as follows. Each turn begins with Alice naming one of the three colors, let's call it 𝑎. Then, Bob chooses a color 𝑏≠𝑎, chooses an empty cell, and places a token of color 𝑏 on that cell.\n",
    "\n",
    "We say that there is a conflict if there exist two adjacent cells containing tokens of the same color. Two cells are considered adjacent if they share a common edge.\n",
    "\n",
    "If at any moment there is a conflict, Alice wins. Otherwise, if 𝑛2 turns are completed (so that the grid becomes full) without any conflicts, Bob wins.\n",
    "\n",
    "We have a proof that Bob has a winning strategy. Play the game as Bob and win.\n",
    "\n",
    "The interactor is adaptive. That is, Alice's color choices can depend on Bob's previous moves.\n",
    "\n",
    "Interaction\n",
    "The interaction begins by reading a single integer 𝑛 (2≤𝑛≤100) — the size of the grid.\n",
    "\n",
    "The turns of the game follow. You should begin each turn by reading an integer 𝑎 (1≤𝑎≤3) — Alice's chosen color.\n",
    "\n",
    "Then you must print three integers 𝑏,𝑖,𝑗 (1≤𝑏≤3,𝑏≠𝑎,1≤𝑖,𝑗≤𝑛) — denoting that Bob puts a token of color 𝑏 in the cell (𝑖,𝑗). The cell (𝑖,𝑗) must not contain a token from a previous turn. If your move is invalid or loses the game, the interaction is terminated and you will receive a Wrong Answer verdict.\n",
    "\n",
    "After 𝑛2 turns have been completed, make sure to exit immediately to avoid getting unexpected verdicts.\n",
    "\n",
    "After printing something do not forget to output end of line and flush the output. Otherwise, you will get Idleness limit exceeded. To do this, use:\n",
    "\n",
    "fflush(stdout) or cout.flush() in C++;\n",
    "System.out.flush() in Java;\n",
    "flush(output) in Pascal;\n",
    "stdout.flush() in Python;\n",
    "see documentation for other languages.\n",
    "Hack Format\n",
    "\n",
    "To hack, use the following format.\n",
    "\n",
    "The first line contains a single integer 𝑛 (2≤𝑛≤100).\n",
    "\n",
    "The second line contains 𝑛2 integers 𝑎1,…,𝑎𝑛2 (1≤𝑎𝑖≤3), where 𝑎𝑖 denotes Alice's color on the 𝑖-th turn.\n",
    "\n",
    "The interactor might deviate from the list of colors in your hack, but only if it forces Bob to lose."
   ]
  },
  {
   "cell_type": "code",
   "execution_count": 33,
   "metadata": {},
   "outputs": [
    {
     "name": "stdout",
     "output_type": "stream",
     "text": [
      "2 1 0\n"
     ]
    },
    {
     "ename": "IndexError",
     "evalue": "list index out of range",
     "output_type": "error",
     "traceback": [
      "\u001b[0;31m---------------------------------------------------------------------------\u001b[0m",
      "\u001b[0;31mIndexError\u001b[0m                                Traceback (most recent call last)",
      "\u001b[1;32m/Users/gabrielgtrigo/Github/codeforces-practice/techprep-group-pset-2/problems.ipynb Cell 5\u001b[0m line \u001b[0;36m4\n\u001b[1;32m     <a href='vscode-notebook-cell:/Users/gabrielgtrigo/Github/codeforces-practice/techprep-group-pset-2/problems.ipynb#X13sZmlsZQ%3D%3D?line=44'>45</a>\u001b[0m         \u001b[39mround\u001b[39m \u001b[39m+\u001b[39m\u001b[39m=\u001b[39m \u001b[39m1\u001b[39m\n\u001b[1;32m     <a href='vscode-notebook-cell:/Users/gabrielgtrigo/Github/codeforces-practice/techprep-group-pset-2/problems.ipynb#X13sZmlsZQ%3D%3D?line=45'>46</a>\u001b[0m         sys\u001b[39m.\u001b[39mstdout\u001b[39m.\u001b[39mflush()\n\u001b[0;32m---> <a href='vscode-notebook-cell:/Users/gabrielgtrigo/Github/codeforces-practice/techprep-group-pset-2/problems.ipynb#X13sZmlsZQ%3D%3D?line=46'>47</a>\u001b[0m problemJ()\n",
      "\u001b[1;32m/Users/gabrielgtrigo/Github/codeforces-practice/techprep-group-pset-2/problems.ipynb Cell 5\u001b[0m line \u001b[0;36m2\n\u001b[1;32m     <a href='vscode-notebook-cell:/Users/gabrielgtrigo/Github/codeforces-practice/techprep-group-pset-2/problems.ipynb#X13sZmlsZQ%3D%3D?line=19'>20</a>\u001b[0m \u001b[39mround\u001b[39m \u001b[39m=\u001b[39m \u001b[39m0\u001b[39m\n\u001b[1;32m     <a href='vscode-notebook-cell:/Users/gabrielgtrigo/Github/codeforces-practice/techprep-group-pset-2/problems.ipynb#X13sZmlsZQ%3D%3D?line=20'>21</a>\u001b[0m \u001b[39mwhile\u001b[39;00m \u001b[39mround\u001b[39m \u001b[39m<\u001b[39m n \u001b[39m*\u001b[39m\u001b[39m*\u001b[39m \u001b[39m2\u001b[39m:\n\u001b[0;32m---> <a href='vscode-notebook-cell:/Users/gabrielgtrigo/Github/codeforces-practice/techprep-group-pset-2/problems.ipynb#X13sZmlsZQ%3D%3D?line=21'>22</a>\u001b[0m     f \u001b[39m=\u001b[39m read()\u001b[39m.\u001b[39;49msplit()[\u001b[39m0\u001b[39;49m]\n\u001b[1;32m     <a href='vscode-notebook-cell:/Users/gabrielgtrigo/Github/codeforces-practice/techprep-group-pset-2/problems.ipynb#X13sZmlsZQ%3D%3D?line=22'>23</a>\u001b[0m     \u001b[39mif\u001b[39;00m f \u001b[39m==\u001b[39m \u001b[39m'\u001b[39m\u001b[39m1\u001b[39m\u001b[39m'\u001b[39m:\n\u001b[1;32m     <a href='vscode-notebook-cell:/Users/gabrielgtrigo/Github/codeforces-practice/techprep-group-pset-2/problems.ipynb#X13sZmlsZQ%3D%3D?line=23'>24</a>\u001b[0m         \u001b[39mif\u001b[39;00m redq:\n",
      "\u001b[0;31mIndexError\u001b[0m: list index out of range"
     ]
    }
   ],
   "source": [
    "import sys\n",
    "def problemJ():\n",
    "    file = sys.stdin\n",
    "    read = file.readline\n",
    "    n = int(read().split()[0])\n",
    "    blueq = []\n",
    "    redq = []\n",
    "    for row in range(n):\n",
    "        for col in range(n):\n",
    "            if row % 2:\n",
    "                if col % 2:\n",
    "                    blueq.append((row, col))\n",
    "                else:\n",
    "                    redq.append((row, col))\n",
    "            else:\n",
    "                if col % 2:\n",
    "                    redq.append((row, col))\n",
    "                else:\n",
    "                    blueq.append((row, col))\n",
    "    round = 0\n",
    "    while round < n ** 2:\n",
    "        f = read().split()[0]\n",
    "        if f == '1':\n",
    "            if redq:\n",
    "                x, y = redq.pop()\n",
    "                print(2, x + 1, y + 1)\n",
    "            else:\n",
    "                x, y = blueq.pop()\n",
    "                print(3, x + 1, y + 1)\n",
    "        elif f == '2':\n",
    "            if blueq:\n",
    "                x, y = blueq.pop()\n",
    "                print(1, x + 1, y + 1)\n",
    "            else:\n",
    "                x, y = redq.pop()\n",
    "                print(3, x + 1, y + 1)\n",
    "        else:\n",
    "            if redq:\n",
    "                x, y = redq.pop()\n",
    "                print(2, x + 1, y + 1)\n",
    "            elif blueq:\n",
    "                x, y = blueq.pop()\n",
    "                print(1, x + 1, y + 1)\n",
    "\n",
    "        round += 1\n",
    "        sys.stdout.flush()\n",
    "problemJ()\n",
    "\n",
    "\n",
    "\n",
    "\n",
    "            \n",
    "    "
   ]
  },
  {
   "cell_type": "code",
   "execution_count": null,
   "metadata": {},
   "outputs": [],
   "source": []
  }
 ],
 "metadata": {
  "kernelspec": {
   "display_name": "Python 3",
   "language": "python",
   "name": "python3"
  },
  "language_info": {
   "codemirror_mode": {
    "name": "ipython",
    "version": 3
   },
   "file_extension": ".py",
   "mimetype": "text/x-python",
   "name": "python",
   "nbconvert_exporter": "python",
   "pygments_lexer": "ipython3",
   "version": "3.11.4"
  }
 },
 "nbformat": 4,
 "nbformat_minor": 2
}
