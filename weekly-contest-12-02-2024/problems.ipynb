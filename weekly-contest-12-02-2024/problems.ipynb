{
 "cells": [
  {
   "cell_type": "code",
   "execution_count": 24,
   "metadata": {},
   "outputs": [
    {
     "name": "stdout",
     "output_type": "stream",
     "text": [
      "1\n"
     ]
    }
   ],
   "source": [
    "from bisect import bisect_right\n",
    "def problemE():\n",
    "\n",
    "    file = open(\"inputE.txt\")\n",
    "    read = file.readline\n",
    "\n",
    "    n = int(read().split()[0])\n",
    "    arr = [int(x) for x in read().split()]\n",
    "    res = 1\n",
    "    i = 1\n",
    "    curr = arr[0]\n",
    "    size = 1\n",
    "    while i < n:\n",
    "        if arr[i] <= 2 * curr:\n",
    "            curr = arr[i]\n",
    "            size += 1\n",
    "            i += 1\n",
    "            res = max(res, size)\n",
    "        else:\n",
    "            res = max(res, size)\n",
    "            curr = arr[i]\n",
    "            size = 1\n",
    "            i += 1\n",
    "    \n",
    "    print(res)\n",
    "\n",
    "problemE()"
   ]
  },
  {
   "cell_type": "code",
   "execution_count": 43,
   "metadata": {},
   "outputs": [
    {
     "name": "stdout",
     "output_type": "stream",
     "text": [
      "129\n"
     ]
    }
   ],
   "source": [
    "from collections import defaultdict\n",
    "import sys\n",
    "def problemG():\n",
    "\n",
    "    file = open(\"inputG.txt\")\n",
    "    read = file.readline\n",
    "\n",
    "    n, m = [int(x) for x in read().split()]\n",
    "    colors = defaultdict(lambda: [[], []])\n",
    "    for r in range(n):\n",
    "        line = [int(x) for x in read().split()]\n",
    "        for c in range(m):\n",
    "            color = line[c]\n",
    "            colors[color][0].append(r)\n",
    "            colors[color][1].append(c)\n",
    "    res = 0\n",
    "    for color in colors.keys():\n",
    "        row = sorted(colors[color][0])\n",
    "        col = sorted(colors[color][1])\n",
    "        sr = sum(row)\n",
    "        sc = sum(col)\n",
    "        for i, el in enumerate(row):\n",
    "            sr -= el\n",
    "            res += sr - (len(row) - 1 - i) * el\n",
    "        for i, el in enumerate(col):\n",
    "            sc -= el\n",
    "            res += sc - (len(col) - 1 - i) * el\n",
    "    print(res)\n",
    "\n",
    "problemG()"
   ]
  },
  {
   "cell_type": "code",
   "execution_count": null,
   "metadata": {},
   "outputs": [],
   "source": []
  }
 ],
 "metadata": {
  "kernelspec": {
   "display_name": ".venv",
   "language": "python",
   "name": "python3"
  },
  "language_info": {
   "codemirror_mode": {
    "name": "ipython",
    "version": 3
   },
   "file_extension": ".py",
   "mimetype": "text/x-python",
   "name": "python",
   "nbconvert_exporter": "python",
   "pygments_lexer": "ipython3",
   "version": "3.11.6"
  }
 },
 "nbformat": 4,
 "nbformat_minor": 2
}
