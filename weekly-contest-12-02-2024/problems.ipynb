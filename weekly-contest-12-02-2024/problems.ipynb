{
 "cells": [
  {
   "cell_type": "code",
   "execution_count": 24,
   "metadata": {},
   "outputs": [
    {
     "name": "stdout",
     "output_type": "stream",
     "text": [
      "1\n"
     ]
    }
   ],
   "source": [
    "from bisect import bisect_right\n",
    "def problemE():\n",
    "\n",
    "    file = open(\"inputE.txt\")\n",
    "    read = file.readline\n",
    "\n",
    "    n = int(read().split()[0])\n",
    "    arr = [int(x) for x in read().split()]\n",
    "    res = 1\n",
    "    i = 1\n",
    "    curr = arr[0]\n",
    "    size = 1\n",
    "    while i < n:\n",
    "        if arr[i] <= 2 * curr:\n",
    "            curr = arr[i]\n",
    "            size += 1\n",
    "            i += 1\n",
    "            res = max(res, size)\n",
    "        else:\n",
    "            res = max(res, size)\n",
    "            curr = arr[i]\n",
    "            size = 1\n",
    "            i += 1\n",
    "    \n",
    "    print(res)\n",
    "\n",
    "problemE()"
   ]
  },
  {
   "cell_type": "code",
   "execution_count": 43,
   "metadata": {},
   "outputs": [
    {
     "name": "stdout",
     "output_type": "stream",
     "text": [
      "129\n"
     ]
    }
   ],
   "source": [
    "from collections import defaultdict\n",
    "import sys\n",
    "def problemG():\n",
    "\n",
    "    file = open(\"inputG.txt\")\n",
    "    read = file.readline\n",
    "\n",
    "    n, m = [int(x) for x in read().split()]\n",
    "    colors = defaultdict(lambda: [[], []])\n",
    "    for r in range(n):\n",
    "        line = [int(x) for x in read().split()]\n",
    "        for c in range(m):\n",
    "            color = line[c]\n",
    "            colors[color][0].append(r)\n",
    "            colors[color][1].append(c)\n",
    "    res = 0\n",
    "    for color in colors.keys():\n",
    "        row = sorted(colors[color][0])\n",
    "        col = sorted(colors[color][1])\n",
    "        sr = sum(row)\n",
    "        sc = sum(col)\n",
    "        for i, el in enumerate(row):\n",
    "            sr -= el\n",
    "            res += sr - (len(row) - 1 - i) * el\n",
    "        for i, el in enumerate(col):\n",
    "            sc -= el\n",
    "            res += sc - (len(col) - 1 - i) * el\n",
    "    print(res)\n",
    "\n",
    "problemG()"
   ]
  },
  {
   "cell_type": "code",
   "execution_count": 152,
   "metadata": {},
   "outputs": [
    {
     "ename": "UnboundLocalError",
     "evalue": "cannot access local variable 'same' where it is not associated with a value",
     "output_type": "error",
     "traceback": [
      "\u001b[0;31m---------------------------------------------------------------------------\u001b[0m",
      "\u001b[0;31mUnboundLocalError\u001b[0m                         Traceback (most recent call last)",
      "Cell \u001b[0;32mIn[152], line 31\u001b[0m\n\u001b[1;32m     29\u001b[0m         \u001b[38;5;28mprint\u001b[39m(lsocks, rsocks)\n\u001b[1;32m     30\u001b[0m         \u001b[38;5;28mprint\u001b[39m(s)\n\u001b[0;32m---> 31\u001b[0m \u001b[43mproblemH\u001b[49m\u001b[43m(\u001b[49m\u001b[43m)\u001b[49m\n",
      "Cell \u001b[0;32mIn[152], line 20\u001b[0m, in \u001b[0;36mproblemH\u001b[0;34m()\u001b[0m\n\u001b[1;32m     18\u001b[0m lsocks \u001b[38;5;241m=\u001b[39m \u001b[38;5;241m0\u001b[39m\n\u001b[1;32m     19\u001b[0m rsocks \u001b[38;5;241m=\u001b[39m \u001b[38;5;241m0\u001b[39m\n\u001b[0;32m---> 20\u001b[0m \u001b[43msame\u001b[49m\n\u001b[1;32m     21\u001b[0m res \u001b[38;5;241m=\u001b[39m \u001b[38;5;241m0\u001b[39m\n\u001b[1;32m     22\u001b[0m \u001b[38;5;28;01mfor\u001b[39;00m color \u001b[38;5;129;01min\u001b[39;00m s:\n",
      "\u001b[0;31mUnboundLocalError\u001b[0m: cannot access local variable 'same' where it is not associated with a value"
     ]
    }
   ],
   "source": [
    "from collections import defaultdict\n",
    "def problemH():\n",
    "    \n",
    "    file = open(\"inputH.txt\")\n",
    "    read = file.readline\n",
    "\n",
    "    for _ in range(int(read().split()[0])):\n",
    "\n",
    "        n, l, r = [int(x) for x in read().split()]\n",
    "        socks = [int(x) for x in read().split()]\n",
    "\n",
    "        lsocks = socks[:l]\n",
    "        rsocks = socks[l:]\n",
    "\n",
    "        s = defaultdict(lambda: [0, 0])\n",
    "        for ls in lsocks: s[ls][0] += 1\n",
    "        for rs in rsocks: s[rs][1] += 1\n",
    "        lsocks = 0\n",
    "        rsocks = 0\n",
    "        same\n",
    "        res = 0\n",
    "        for color in s:\n",
    "            m = min(s[color])\n",
    "            s[color][0] -= m\n",
    "            s[color][1] -= m\n",
    "            lsocks += s[color][0]\n",
    "            rsocks += s[color][1]\n",
    "            same += sum(s[color])\n",
    "        print(lsocks, rsocks)\n",
    "        print(s)\n",
    "problemH()\n",
    "\n"
   ]
  },
  {
   "cell_type": "code",
   "execution_count": 157,
   "metadata": {},
   "outputs": [
    {
     "name": "stdout",
     "output_type": "stream",
     "text": [
      "7\n"
     ]
    }
   ],
   "source": [
    "\n",
    "import numpy as np\n",
    "def dacDP():\n",
    "\n",
    "    file = open(\"inputdacDP.txt\")\n",
    "    read = file.readline\n",
    "\n",
    "    n, k = [int(x) for x in read().split()]\n",
    "    f = []\n",
    "    cost = [[-1] * n for _ in range(n)]\n",
    "    for _ in range(n):\n",
    "        line = [int(x) for x in read().split()]\n",
    "        f.append(line)\n",
    "    for row in range(n):\n",
    "        for col in range(n):\n",
    "            if row == col and row == 0:\n",
    "                cost[row][col] = 0\n",
    "            elif row == 0:\n",
    "                cost[row][col] = cost[row][col - 1] + f[row][col]\n",
    "            elif col == 0:\n",
    "                cost[row][col] = cost[row - 1][col] + f[row][col]\n",
    "            else:\n",
    "                cost[row][col] = cost[row - 1][col] + \\\n",
    "                    cost[row][col - 1] -\\\n",
    "                    cost[row - 1][col - 1] +\\\n",
    "                    f[row][col]\n",
    "\n",
    "    def c(row, col):\n",
    "        if row < 0 or col < 0: return 0\n",
    "        return cost[row][col]\n",
    "\n",
    "    def get_cost(row1, row2, col1, col2):\n",
    "        return c(row2, col2) + c(row1 - 1, col1 - 1) - c(row2, col1 - 1) - c(row1 - 1, col2)\n",
    "    \n",
    "    def solve(i, L, R, optL, optR):\n",
    "        if L > R: return\n",
    "        mid = (L + R) // 2\n",
    "        opts = [(dp[i - 1][a] + get_cost(a, mid - 1, a, mid - 1), a) for a in range(optL, optR + 1)]\n",
    "        dp[i][mid], opt = min(opts)\n",
    "        solve(i, L, mid - 1, optL, opt)\n",
    "        solve(i, mid + 1, R, opt, optR)\n",
    "\n",
    "    # let dp[i][j] = minimum cost to take the first j people on i gondolas\n",
    "    # dp[i][j] = min(dp[i - 1][k] + cost[k + 1:j])\n",
    "    dp = [[0] * (n + 1) for __ in range(k + 1)]\n",
    "    for i in range(k + 1):\n",
    "        for j in range(n + 1):\n",
    "            if i + j == 0: continue\n",
    "            if i == 0 or i > j: \n",
    "                dp[i][j] = 10e30\n",
    "                continue\n",
    "            # dp[i][j] = min([dp[i - 1][a] + get_cost(a, j - 1, a, j - 1) for a in range(0, j)])\n",
    "    for i in range(1, k + 1):\n",
    "        solve(i, 1, n, 0, n)\n",
    "    print(dp[k][n]//2)\n",
    "dacDP()"
   ]
  },
  {
   "cell_type": "code",
   "execution_count": null,
   "metadata": {},
   "outputs": [],
   "source": []
  }
 ],
 "metadata": {
  "kernelspec": {
   "display_name": ".venv",
   "language": "python",
   "name": "python3"
  },
  "language_info": {
   "codemirror_mode": {
    "name": "ipython",
    "version": 3
   },
   "file_extension": ".py",
   "mimetype": "text/x-python",
   "name": "python",
   "nbconvert_exporter": "python",
   "pygments_lexer": "ipython3",
   "version": "3.11.6"
  }
 },
 "nbformat": 4,
 "nbformat_minor": 2
}
