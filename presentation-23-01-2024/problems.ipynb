{
 "cells": [
  {
   "cell_type": "code",
   "execution_count": 8,
   "metadata": {},
   "outputs": [
    {
     "name": "stdout",
     "output_type": "stream",
     "text": [
      "8\n",
      "5\n"
     ]
    }
   ],
   "source": [
    "class SegTree:\n",
    "    def __init__(self, a, comp, default):\n",
    "        n = len(a)\n",
    "        self.comp = comp\n",
    "        self.default = default\n",
    "        self.t = [default] * (4 * n)\n",
    "        self.build(a, 1, 0, n - 1)\n",
    "\n",
    "    def build(self, a, v, tl, tr):\n",
    "        if tl == tr: self.t[v] = a[tl]\n",
    "        else:\n",
    "            tm = (tl + tr) // 2\n",
    "            self.build(a, v * 2, tl, tm)\n",
    "            self.build(a, v * 2 + 1, tm + 1, tr)\n",
    "            self.t[v] = self.comp(self.t[2 * v], self.t[2 * v + 1])\n",
    "\n",
    "    def query(self, v, tl, tr, l, r):\n",
    "        if l > r: return self.default\n",
    "        if l == tl and r == tr: return self.t[v]\n",
    "        tm = (tl + tr) // 2\n",
    "        return self.comp(\n",
    "            self.query(v * 2, tl, tm, l, min(r, tm)), \n",
    "            self.query(v * 2 + 1, tm + 1, tr, max(l, tm + 1), r)\n",
    "        )\n",
    "    \n",
    "    def update(self, v, tl, tr, pos, new_val):\n",
    "        if tl == tr: self.t[v] = new_val\n",
    "        else:\n",
    "            tm = (tl + tr) // 2\n",
    "            if pos <= tm: self.update(2 * v, tl, tm, pos, new_val)\n",
    "            else: self.update(2 * v + 1, tm + 1, tr, pos, new_val)\n",
    "            self.t[v] = self.comp(self.t[2 * v], self.t[2 * v + 1])\n",
    "import sys\n",
    "fast_print = lambda p: sys.stdout.write(str(p) + \"\\n\")\n",
    "\n",
    "def problemD():\n",
    "\n",
    "    file = sys.stdin\n",
    "    read = file.readline\n",
    "\n",
    "    n, m = [int(x) for x in read().split()]\n",
    "    arr = [int(x) for x in read().split()]\n",
    "\n",
    "    sum_tree = SegTree(\n",
    "        arr, \n",
    "        lambda x, y: x + y,\n",
    "        0\n",
    "        )\n",
    "    \n",
    "    max_tree = SegTree(\n",
    "        [[i, el] for i, el in enumerate(arr)], \n",
    "        lambda x, y: max(x, y, key=lambda z: z[1]),\n",
    "        [-1, -1]\n",
    "        )\n",
    "\n",
    "    for _ in range(m):\n",
    "        instruction = [int(x) for x in read().split()]\n",
    "        if instruction[0] == 1:\n",
    "            l, r = instruction[1] - 1, instruction[2] - 1\n",
    "            fast_print(sum_tree.query(1, 0, n - 1, l, r))\n",
    "        if instruction[0] == 2:\n",
    "            l, r, x = instruction[1] - 1, instruction[2] - 1, instruction[3]\n",
    "            while True:\n",
    "                pos, val = max_tree.query(1, 0, n - 1, l, r)\n",
    "                if val < x: break\n",
    "                max_tree.update(1, 0, n - 1, pos, [pos, val % x])\n",
    "                sum_tree.update(1, 0, n - 1, pos, val % x)\n",
    "        if instruction[0] == 3:\n",
    "            k, x = instruction[1] - 1, instruction[2]\n",
    "            sum_tree.update(1, 0, n - 1, k, x)\n",
    "            max_tree.update(1, 0, n - 1, k, [k, x]) \n",
    "problemD()"
   ]
  },
  {
   "cell_type": "code",
   "execution_count": null,
   "metadata": {},
   "outputs": [],
   "source": []
  }
 ],
 "metadata": {
  "kernelspec": {
   "display_name": ".venv",
   "language": "python",
   "name": "python3"
  },
  "language_info": {
   "codemirror_mode": {
    "name": "ipython",
    "version": 3
   },
   "file_extension": ".py",
   "mimetype": "text/x-python",
   "name": "python",
   "nbconvert_exporter": "python",
   "pygments_lexer": "ipython3",
   "version": "3.11.6"
  }
 },
 "nbformat": 4,
 "nbformat_minor": 2
}
