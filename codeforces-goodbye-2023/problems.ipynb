{
 "cells": [
  {
   "cell_type": "code",
   "execution_count": 10,
   "metadata": {},
   "outputs": [
    {
     "name": "stdout",
     "output_type": "stream",
     "text": [
      "NO\n",
      "NO\n",
      "YES\n",
      "7 1\n",
      "YES\n",
      "1\n",
      "YES\n",
      "7\n",
      "YES\n",
      "1\n",
      "YES\n",
      "7 17 17\n"
     ]
    }
   ],
   "source": [
    "def problemA():\n",
    "\n",
    "    file = open(\"inputA.txt\")\n",
    "    read = file.readline\n",
    "\n",
    "    def factor(q):\n",
    "        res = []\n",
    "        for i in range(2, q+1):\n",
    "            while not(q % i):\n",
    "                q //= i\n",
    "                res.append(i)\n",
    "        \n",
    "        return res\n",
    "\n",
    "    for _ in range(int(read().split()[0])):\n",
    "\n",
    "        n, k = [int(x) for x in read().split()]\n",
    "        remaining = [int(x) for x in read().split()]\n",
    "        prod = 1\n",
    "        for el in remaining:\n",
    "            prod *= el\n",
    "        \n",
    "        if 2023 % prod != 0:\n",
    "            print(\"NO\")\n",
    "            continue\n",
    "\n",
    "        rem = 2023 // prod\n",
    "        factors = factor(rem)\n",
    "        if len(factors) < k:\n",
    "            print(\"YES\")\n",
    "            print(\" \".join([str(f) for f in factors] + [str(1)] * (k - len(factors))))\n",
    "            continue\n",
    "        p = 1\n",
    "        for el in factors[k-1:]:\n",
    "            p *= el\n",
    "        print(\"YES\")\n",
    "        print(\" \".join([str(f) for f  in factors[:k-1]] + [str(p)]))\n",
    "\n",
    "problemA()\n"
   ]
  },
  {
   "cell_type": "code",
   "execution_count": 40,
   "metadata": {},
   "outputs": [
    {
     "name": "stdout",
     "output_type": "stream",
     "text": [
      "6\n",
      "4\n",
      "33\n",
      "25\n",
      "20\n",
      "12\n",
      "27\n",
      "1000000000\n"
     ]
    }
   ],
   "source": [
    "def problemB():\n",
    "\n",
    "    def factor(q, d=None):\n",
    "        for i in range(2, int(q**0.5)+2):\n",
    "            if i == d: continue\n",
    "            if not(q%i):\n",
    "                return i\n",
    "        return q\n",
    "    \n",
    "    file = open(\"inputB.txt\")\n",
    "    read = file.readline\n",
    "\n",
    "    for _ in range(int(read().split()[0])):\n",
    "\n",
    "        a, b = [int(x) for x in read().split()]\n",
    "        min_a = factor(a)\n",
    "        min_b = factor(b)\n",
    "        if a == 1:\n",
    "            print(b**2)\n",
    "            continue\n",
    "        if not(b%a):\n",
    "            print(b*min_b)\n",
    "            continue\n",
    "        if min_a == min_b:\n",
    "            print(b*min_b)\n",
    "            continue\n",
    "        print(a*min_b)\n",
    "\n",
    "\n",
    "problemB()"
   ]
  },
  {
   "cell_type": "code",
   "execution_count": 57,
   "metadata": {},
   "outputs": [
    {
     "name": "stdout",
     "output_type": "stream",
     "text": [
      "31\n",
      "6 8 16 18 22 26\n",
      "3 12 24\n",
      "7 20 30 48 50\n"
     ]
    }
   ],
   "source": [
    "def problemC():\n",
    "\n",
    "    file = open(\"inputC.txt\")\n",
    "    read = file.readline\n",
    "\n",
    "    for _ in range(int(read().split()[0])):\n",
    "\n",
    "        n = int(read().split()[0])\n",
    "        arr = [int(x) for x in read().split()]\n",
    "\n",
    "        pre = []\n",
    "        o = 0\n",
    "        e = 0\n",
    "        s = 0\n",
    "        for el in arr:\n",
    "            if el % 2: o += 1\n",
    "            else: e += 1\n",
    "            s += el\n",
    "            pre.append((e, o, s))\n",
    "        \n",
    "        res = []\n",
    "        for el in pre:\n",
    "            e, o, s = el\n",
    "            if e + o == 1:\n",
    "                res.append(str(s))\n",
    "                continue\n",
    "            if o % 3 == 1:\n",
    "                res.append(str(s - 1 - o//3))\n",
    "                continue\n",
    "            res.append(str(s - o//3))\n",
    "        \n",
    "            #res.append(str(s - 1 - o//2))\n",
    "        print(\" \".join(res))\n",
    "\n",
    "problemC()"
   ]
  },
  {
   "cell_type": "code",
   "execution_count": null,
   "metadata": {},
   "outputs": [],
   "source": [
    "from collections import Counter\n",
    "def problemD():\n",
    "\n",
    "    file = open(\"inputD.txt\")\n",
    "    read = file.readline\n",
    "\n",
    "    for _ in range(int(read().split()[0])):\n",
    "\n",
    "        n = int(read().split()[0])\n",
    "\n",
    "        "
   ]
  }
 ],
 "metadata": {
  "kernelspec": {
   "display_name": ".venv",
   "language": "python",
   "name": "python3"
  },
  "language_info": {
   "codemirror_mode": {
    "name": "ipython",
    "version": 3
   },
   "file_extension": ".py",
   "mimetype": "text/x-python",
   "name": "python",
   "nbconvert_exporter": "python",
   "pygments_lexer": "ipython3",
   "version": "3.11.6"
  }
 },
 "nbformat": 4,
 "nbformat_minor": 2
}
