{
 "cells": [
  {
   "cell_type": "code",
   "execution_count": 1,
   "metadata": {},
   "outputs": [
    {
     "name": "stdout",
     "output_type": "stream",
     "text": [
      "6\n",
      "0\n",
      "10\n",
      "17\n"
     ]
    }
   ],
   "source": [
    "def problemA():\n",
    "\n",
    "    file = open(\"inputA.txt\")\n",
    "    read = file.readline\n",
    "\n",
    "    for _ in range(int(read().split()[0])):\n",
    "        s = read().split()[0]\n",
    "        a, b = [int(x) for x in s.split(\"+\")]\n",
    "        print(a + b)\n",
    "problemA()  "
   ]
  },
  {
   "cell_type": "code",
   "execution_count": 5,
   "metadata": {},
   "outputs": [
    {
     "name": "stdout",
     "output_type": "stream",
     "text": [
      "14\n",
      "0 2 -1 1\n",
      "78\n",
      "0 -2 -1 1 2 3\n",
      "18\n",
      "0 1 -1 2 -2 3\n",
      "0\n",
      "0 1\n"
     ]
    }
   ],
   "source": [
    "def problemC():\n",
    "\n",
    "    file = open(\"inputC.txt\")\n",
    "    read = file.readline\n",
    "\n",
    "    for _ in range(int(read().split()[0])):\n",
    "        n = int(read().split()[0])\n",
    "        visits = sorted([(pos + 1, int(x)) for pos, x in enumerate(read().split())], key=lambda x: -x[1])\n",
    "        pos = 1\n",
    "        neg = 1\n",
    "        res = [0] * (n + 1)\n",
    "        su = 0\n",
    "        for el in visits:\n",
    "            su += min(pos, neg) * el[1]\n",
    "            if pos == neg:\n",
    "                res[el[0]] = pos\n",
    "                pos += 1\n",
    "            else:\n",
    "                res[el[0]] = -neg\n",
    "                neg += 1\n",
    "        print(2*su)\n",
    "        print(\" \".join([str(el) for el in res]))\n",
    "\n",
    "problemC()"
   ]
  },
  {
   "cell_type": "code",
   "execution_count": 28,
   "metadata": {},
   "outputs": [
    {
     "name": "stdout",
     "output_type": "stream",
     "text": [
      "1 2 3 4\n",
      "4 1 2 3\n",
      "1 2 4 3\n",
      "1 2 3 4\n"
     ]
    }
   ],
   "source": [
    "def problemE():\n",
    "    \n",
    "    file = open(\"inputE.txt\")\n",
    "    read = file.readline\n",
    "\n",
    "    for _ in range(int(read().split()[0])):\n",
    "        n = int(read().split()[0])\n",
    "        edges = \"\".join(read().split())\n",
    "        if edges[0] == '1':\n",
    "            print(\" \".join([str(n + 1)] + [str(i) for i in range(1, n + 1)]))\n",
    "            continue\n",
    "        if edges[-1] == '0':\n",
    "            print(\" \".join([str(i) for i in range(1, n + 2)]))\n",
    "            continue\n",
    "        if '01' not in edges:\n",
    "            print(-1)\n",
    "            continue\n",
    "        res = []\n",
    "        boo = False\n",
    "        for i in range(1, len(edges) + 1):\n",
    "            res.append(i)\n",
    "            if i < len(edges) and edges[i-1] == '0' and edges[i] == '1' and not boo:\n",
    "                res.append(n + 1)\n",
    "                boo = True\n",
    "        print(\" \".join([str(r) for r in res]))\n",
    "\n",
    "problemE()"
   ]
  },
  {
   "cell_type": "code",
   "execution_count": 46,
   "metadata": {},
   "outputs": [
    {
     "name": "stdout",
     "output_type": "stream",
     "text": [
      "b\n",
      "ac\n",
      "abcdebfadg\n",
      "bcdefghijklmnopqrstuvwxyza\n",
      "bcdefghijklmnopqrstuvwxyaz\n",
      "bcd\n"
     ]
    }
   ],
   "source": [
    "class UnionFind():\n",
    "\n",
    "    def __init__(self):\n",
    "        self.reps = {}\n",
    "        for l in \"abcdefghijklmnopqrstuvwxyz\":\n",
    "            self.reps[l] = l\n",
    "\n",
    "    def find(self, a):\n",
    "\n",
    "        if self.reps[a] == a:\n",
    "            return a\n",
    "        \n",
    "        rep = self.find(self.reps[a])\n",
    "        self.reps[a] = rep\n",
    "        return rep\n",
    "\n",
    "    def merge(self, a, b):\n",
    "        rep_a = self.find(a)\n",
    "        rep_b = self.find(b)\n",
    "        if rep_a > rep_b: self.reps[rep_b] = rep_a\n",
    "        else: self.reps[rep_a] = rep_b\n",
    "\n",
    "def problemG():\n",
    "    \n",
    "    file = open(\"inputG.txt\")\n",
    "    read = file.readline\n",
    "    for _ in range(int(read().split()[0])):\n",
    "        n = int(read().split()[0])\n",
    "        word = read().split()[0]\n",
    "        letters = \"abcdefghijklmnopqrstuvwxyz\"[::-1]\n",
    "        Uf = UnionFind()\n",
    "        prevs = {}\n",
    "        res = []\n",
    "        for l in word:\n",
    "            if l in prevs:\n",
    "                res.append(prevs[l])\n",
    "            else:\n",
    "                i = 1\n",
    "                while (letters[-i] == l or (Uf.find(l) == Uf.find(letters[-i]))) and len(letters) > 1:\n",
    "                    i += 1\n",
    "                prevs[l] = letters[-i]\n",
    "                letters = letters.replace(letters[-i], \"\")\n",
    "                res.append(prevs[l])\n",
    "                Uf.merge(l, prevs[l])\n",
    "\n",
    "        print(\"\".join(res))\n",
    "problemG()"
   ]
  },
  {
   "cell_type": "code",
   "execution_count": null,
   "metadata": {},
   "outputs": [],
   "source": []
  }
 ],
 "metadata": {
  "kernelspec": {
   "display_name": ".venv",
   "language": "python",
   "name": "python3"
  },
  "language_info": {
   "codemirror_mode": {
    "name": "ipython",
    "version": 3
   },
   "file_extension": ".py",
   "mimetype": "text/x-python",
   "name": "python",
   "nbconvert_exporter": "python",
   "pygments_lexer": "ipython3",
   "version": "3.11.6"
  }
 },
 "nbformat": 4,
 "nbformat_minor": 2
}
