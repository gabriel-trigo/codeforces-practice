{
 "cells": [
  {
   "cell_type": "code",
   "execution_count": 12,
   "metadata": {},
   "outputs": [
    {
     "name": "stdout",
     "output_type": "stream",
     "text": [
      "1\n",
      "0\n",
      "-1\n",
      "2\n",
      "2\n",
      "0\n",
      "-1\n",
      "1\n",
      "1\n"
     ]
    }
   ],
   "source": [
    "\n",
    "def problemA():\n",
    "\n",
    "    file = open(\"inputA.txt\")\n",
    "    read = file.readline\n",
    "    for i in range(int(read().split()[0])):\n",
    "        line = read().split()\n",
    "        n, m, r, c = [int(x) for x in line]\n",
    "        r -= 1\n",
    "        c -= 1\n",
    "        matrix = []\n",
    "        for row in range(n):\n",
    "            matrix.append([c for c in read().split()[0]])\n",
    "        if matrix[r][c] == \"B\":\n",
    "            print(0)\n",
    "            continue\n",
    "        if \"B\" in matrix[r] or \"B\" in [matrix[i][c] for i in range(n)]:\n",
    "            print(1)\n",
    "            continue\n",
    "        else:\n",
    "            bo = True\n",
    "            for row in matrix:\n",
    "                if \"B\" in row:\n",
    "                    bo = False\n",
    "                    print(\"2\")\n",
    "                    break\n",
    "            if bo:\n",
    "                print(-1)\n",
    "                \n",
    "problemA()"
   ]
  },
  {
   "cell_type": "code",
   "execution_count": 16,
   "metadata": {},
   "outputs": [
    {
     "name": "stdout",
     "output_type": "stream",
     "text": [
      "0\n",
      "4\n",
      "389456655\n"
     ]
    }
   ],
   "source": [
    "import math\n",
    "\n",
    "def problemB():\n",
    "    file = open(\"inputB.txt\")\n",
    "    read = file.readline\n",
    "    for i in range(int(read().split()[0])):\n",
    "        n = int(read().split()[0])\n",
    "        print((math.factorial(n) * n * (n -  1)) % (int(1e9) + 7)) \n",
    "problemB()      "
   ]
  },
  {
   "cell_type": "code",
   "execution_count": 24,
   "metadata": {},
   "outputs": [
    {
     "name": "stdout",
     "output_type": "stream",
     "text": [
      "1 1\n",
      "3 6\n",
      "1 4\n",
      "5 5\n"
     ]
    }
   ],
   "source": [
    "from math import lcm\n",
    "def problemC():\n",
    "    file = open(\"inputC.txt\")\n",
    "    read = file.readline\n",
    "\n",
    "    for _ in range(int(read().split()[0])):\n",
    "        n = int(read().split()[0])\n",
    "        best = n - 1\n",
    "        bo = True\n",
    "        for i in range(2, int(n ** 0.5) + 1):\n",
    "            if not (n % i):\n",
    "                best = (n - n // i)\n",
    "                break\n",
    "        print(n - best, best)\n",
    "        \n",
    "problemC()"
   ]
  },
  {
   "cell_type": "code",
   "execution_count": 31,
   "metadata": {},
   "outputs": [
    {
     "name": "stdout",
     "output_type": "stream",
     "text": [
      "YES\n",
      "NO\n",
      "YES\n",
      "YES\n",
      "NO\n",
      "YES\n"
     ]
    }
   ],
   "source": [
    "\n",
    "def problemD():\n",
    "\n",
    "    file = open(\"inputD.txt\")\n",
    "    read = file.readline\n",
    "    for _ in range(int(read().split()[0])):\n",
    "        \n",
    "        last_occ = {}\n",
    "        string = read().split()[0]\n",
    "        ans = \"YES\"\n",
    "        unique = len(set(string))\n",
    "        for i, char in enumerate(string):\n",
    "            if char not in last_occ:\n",
    "                last_occ[char] = i\n",
    "            else:\n",
    "                if i - last_occ[char] < unique:\n",
    "                    ans = \"NO\"\n",
    "                    break\n",
    "                last_occ[char] = i\n",
    "        print(ans)\n",
    "problemD()\n"
   ]
  },
  {
   "cell_type": "code",
   "execution_count": 37,
   "metadata": {},
   "outputs": [
    {
     "name": "stdout",
     "output_type": "stream",
     "text": [
      "1\n",
      "2\n",
      "1\n",
      "3\n",
      "2\n",
      "2\n",
      "65\n"
     ]
    }
   ],
   "source": [
    "def problemE():\n",
    "\n",
    "    file = open(\"inputE.txt\")\n",
    "    read = file.readline\n",
    "\n",
    "    for _ in range(int(read().split()[0])):\n",
    "        line = read().split()\n",
    "        n, k = int(line[0]), int(line[1]) - 1\n",
    "        if not (n % 2):\n",
    "            print((k % n) + 1)\n",
    "            continue\n",
    "\n",
    "        x = (n - 1) // 2\n",
    "        print(((k + k // x) % n) + 1)\n",
    "\n",
    "problemE()\n",
    "\n"
   ]
  },
  {
   "cell_type": "code",
   "execution_count": 39,
   "metadata": {},
   "outputs": [
    {
     "name": "stdout",
     "output_type": "stream",
     "text": [
      "1\n",
      "2\n",
      "0\n",
      "1\n"
     ]
    }
   ],
   "source": [
    "\n",
    "def problemF():\n",
    "    file = open(\"inputF.txt\")\n",
    "    read = file.readline\n",
    "    for _ in range(int(read().split()[0])):\n",
    "        n = int(read().split()[0])\n",
    "        arr = [int(x) for x in read().split()]\n",
    "        if not sum(arr):\n",
    "            print(0)\n",
    "        elif max(arr) - 1 <= sum(arr) - max(arr):\n",
    "            print(1)\n",
    "        else:\n",
    "            print(2 * max(arr) - sum(arr))\n",
    "problemF()\n"
   ]
  },
  {
   "cell_type": "code",
   "execution_count": 67,
   "metadata": {},
   "outputs": [
    {
     "name": "stdout",
     "output_type": "stream",
     "text": [
      "2\n",
      "4\n",
      "9\n",
      "1\n",
      "4\n"
     ]
    }
   ],
   "source": [
    "def problemG():\n",
    "\n",
    "    file = open(\"inputG.txt\")\n",
    "    read = file.readline\n",
    "\n",
    "    def max_even_start(n):\n",
    "        if n == 0:\n",
    "            return 0\n",
    "        if n == 2:\n",
    "            return 1\n",
    "        if n == 4:\n",
    "            return 3\n",
    "        if not (3 & n):\n",
    "            new_n = (n // 2 - 1) * 2\n",
    "            return (n - new_n) // 2 + max_even_start(new_n)\n",
    "        else:\n",
    "            return n // 2 + max_even_start(n // 2 - 1)\n",
    "\n",
    "    for _ in range(int(read().split()[0])):\n",
    "        n = int(read().split()[0])\n",
    "        if n % 2:\n",
    "            print(1 + (n - 1) - max_even_start(n - 1))\n",
    "        else:\n",
    "            print(max_even_start(n))\n",
    "\n",
    "problemG()"
   ]
  },
  {
   "cell_type": "code",
   "execution_count": null,
   "metadata": {},
   "outputs": [],
   "source": [
    "from collections import counter\n",
    "def problemH():\n",
    "    file = open(\"inputH.txt\")\n",
    "    read = file.readline\n",
    "    \n",
    "    for _ in range(int(read().split()[0])):\n",
    "        n = int(read().split()[0])\n",
    "\n"
   ]
  }
 ],
 "metadata": {
  "kernelspec": {
   "display_name": ".venv",
   "language": "python",
   "name": "python3"
  },
  "language_info": {
   "codemirror_mode": {
    "name": "ipython",
    "version": 3
   },
   "file_extension": ".py",
   "mimetype": "text/x-python",
   "name": "python",
   "nbconvert_exporter": "python",
   "pygments_lexer": "ipython3",
   "version": "3.11.6"
  }
 },
 "nbformat": 4,
 "nbformat_minor": 2
}
