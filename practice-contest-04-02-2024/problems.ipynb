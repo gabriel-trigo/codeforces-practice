{
 "cells": [
  {
   "cell_type": "code",
   "execution_count": 8,
   "metadata": {},
   "outputs": [
    {
     "name": "stdout",
     "output_type": "stream",
     "text": [
      "No\n",
      "Yes\n",
      "No\n",
      "Yes\n"
     ]
    }
   ],
   "source": [
    "from collections import Counter\n",
    "def problemA():\n",
    "    \n",
    "    file = open(\"inputA.txt\")\n",
    "    read = file.readline\n",
    "\n",
    "    for i in range(int(read().split()[0])):\n",
    "        n, k = [int(x) for x in read().split()]\n",
    "        a = read().split()[0]\n",
    "        b = read().split()[0]\n",
    "        ca = Counter(a)\n",
    "        cb = Counter(b)\n",
    "        res = True\n",
    "        bank = 0\n",
    "        for key in \"abcdefghijklmnopqrstuvwxyz\":\n",
    "            if abs(cb[key] - ca[key]) % k:\n",
    "                print(\"No\")\n",
    "                res = False\n",
    "                break\n",
    "\n",
    "            if cb[key] - ca[key] > bank:\n",
    "                print(\"No\")\n",
    "                res = False\n",
    "                break\n",
    "\n",
    "            bank -= cb[key] - ca[key]\n",
    "        if res: print(\"Yes\")\n",
    "problemA()"
   ]
  },
  {
   "cell_type": "code",
   "execution_count": 26,
   "metadata": {},
   "outputs": [
    {
     "name": "stdout",
     "output_type": "stream",
     "text": [
      "Yes\n",
      "Yes\n",
      "Yes\n",
      "Yes\n",
      "No\n",
      "Yes\n",
      "Yes\n",
      "No\n"
     ]
    }
   ],
   "source": [
    "def problemC():\n",
    "\n",
    "    file = open(\"inputC.txt\")\n",
    "    read = file.readline\n",
    "\n",
    "    for _ in range(int(read().split()[0])):\n",
    "        a, b, x = [int(x) for x in read().split()]\n",
    "        a, b = max(a, b), min(a, b)\n",
    "        res = False\n",
    "        if a == x or b == x:\n",
    "            print(\"Yes\")\n",
    "            continue\n",
    "        while (a >= x or b >= x) and a * b != 0:\n",
    "            b, a = sorted([a, b])\n",
    "            if a == x or b == x:\n",
    "                res = True\n",
    "                break \n",
    "            if b != 0 and ((a - x) % b == 0):\n",
    "                res = True\n",
    "                break\n",
    "            else:\n",
    "                a = a % b\n",
    "        \n",
    "        if res: print(\"Yes\")\n",
    "        else: print(\"No\")\n",
    "    \n",
    "problemC()"
   ]
  },
  {
   "cell_type": "code",
   "execution_count": 82,
   "metadata": {},
   "outputs": [
    {
     "name": "stdout",
     "output_type": "stream",
     "text": [
      "2 2 3\n",
      "2 2 1\n",
      "2 2 1\n",
      "1 1\n",
      "0\n"
     ]
    }
   ],
   "source": [
    "from math import gcd\n",
    "from collections import deque\n",
    "\n",
    "class Node:\n",
    "    def __init__(self, idx, val, next=None, prev=None):\n",
    "        self.idx = idx\n",
    "        self.val = val\n",
    "        self.next = next\n",
    "        self.prev = prev\n",
    "\n",
    "def node(idx, val, next=None, prev=None):\n",
    "    return {\n",
    "        \"idx\": idx,\n",
    "        \"val\": val,\n",
    "        \"next\": next,\n",
    "        \"prev\": prev\n",
    "    }\n",
    "\n",
    "def problemF():\n",
    "\n",
    "    file = open(\"inputF.txt\")\n",
    "    read = file.readline\n",
    "\n",
    "    for _ in range(int(read().split()[0])):\n",
    "        n = int(read().split()[0])\n",
    "        a = [node(i, int(x), (i + 1) % n, (i + n - 1) % n) for i, x in enumerate(read().split())]\n",
    "        i = 0\n",
    "        q = deque([])\n",
    "        while i < n:\n",
    "            if gcd(a[i][\"val\"], a[a[i][\"next\"]][\"val\"]) == 1:\n",
    "                q.append(a[a[i][\"next\"]])\n",
    "                i += 1\n",
    "            i += 1\n",
    "        res = []\n",
    "\n",
    "        while (len(q)) :\n",
    "            pop = q.popleft()\n",
    "            if (gcd(pop[\"val\"], a[pop[\"prev\"]][\"val\"]) == 1):\n",
    "                res.append(pop[\"idx\"] + 1)\n",
    "            else: continue\n",
    "\n",
    "            if (pop[\"prev\"] == pop[\"idx\"]) :\n",
    "                continue\n",
    "            a[pop[\"prev\"]][\"next\"] = pop[\"next\"]\n",
    "            a[pop[\"next\"]][\"prev\"] = pop[\"prev\"]\n",
    "            if (gcd(a[pop[\"next\"]][\"val\"], a[pop[\"prev\"]][\"val\"]) == 1) :\n",
    "                q.append(a[pop[\"next\"]])\n",
    "            \n",
    "        \n",
    "        print(\" \".join([str(el) for el in [len(res)] + res]))\n",
    "\n",
    "problemF()"
   ]
  },
  {
   "cell_type": "code",
   "execution_count": 29,
   "metadata": {},
   "outputs": [
    {
     "data": {
      "text/plain": [
       "2"
      ]
     },
     "execution_count": 29,
     "metadata": {},
     "output_type": "execute_result"
    }
   ],
   "source": [
    "-1 % 3"
   ]
  },
  {
   "cell_type": "code",
   "execution_count": 52,
   "metadata": {},
   "outputs": [
    {
     "data": {
      "text/plain": [
       "2.4"
      ]
     },
     "execution_count": 52,
     "metadata": {},
     "output_type": "execute_result"
    }
   ],
   "source": [
    "\n",
    "(24 * 10**5)*(10**-6)"
   ]
  },
  {
   "cell_type": "code",
   "execution_count": null,
   "metadata": {},
   "outputs": [],
   "source": []
  }
 ],
 "metadata": {
  "kernelspec": {
   "display_name": ".venv",
   "language": "python",
   "name": "python3"
  },
  "language_info": {
   "codemirror_mode": {
    "name": "ipython",
    "version": 3
   },
   "file_extension": ".py",
   "mimetype": "text/x-python",
   "name": "python",
   "nbconvert_exporter": "python",
   "pygments_lexer": "ipython3",
   "version": "3.11.6"
  }
 },
 "nbformat": 4,
 "nbformat_minor": 2
}
