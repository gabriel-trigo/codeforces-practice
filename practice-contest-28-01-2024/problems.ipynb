{
 "cells": [
  {
   "cell_type": "code",
   "execution_count": 65,
   "metadata": {},
   "outputs": [
    {
     "name": "stdout",
     "output_type": "stream",
     "text": [
      "12\n",
      "37\n",
      "1000000\n",
      "5000349985\n",
      "66\n",
      "6\n"
     ]
    }
   ],
   "source": [
    "def problemE():\n",
    "\n",
    "    file = open(\"inputE.txt\")\n",
    "    read = file.readline\n",
    "\n",
    "    for _ in range(int(read().split()[0])):\n",
    "        n, k = [int(x) for x in read().split()]\n",
    "        arr = [int(x) for x in read().split()]\n",
    "        kr = min(k, n)\n",
    "        i = kr\n",
    "        s = sum(arr[:kr])\n",
    "        res = s\n",
    "\n",
    "        for i in range(kr, n):\n",
    "            s -= arr[i - kr]\n",
    "            s += arr[i]\n",
    "            res = max(s, res)\n",
    "        \n",
    "        if k > kr:\n",
    "            res += (k - 1) * n - ((n - 1) * n) // 2\n",
    "        else:\n",
    "            res += (kr * (kr - 1)) // 2\n",
    "        print(res)\n",
    "problemE()"
   ]
  },
  {
   "cell_type": "code",
   "execution_count": 83,
   "metadata": {},
   "outputs": [
    {
     "name": "stdout",
     "output_type": "stream",
     "text": [
      "1\n",
      "2\n",
      "4\n",
      "4\n",
      "8\n",
      "8\n",
      "15\n",
      "6\n"
     ]
    }
   ],
   "source": [
    "def problemG():\n",
    "\n",
    "    file = open(\"inputG.txt\")\n",
    "    read = file.readline\n",
    "\n",
    "    for _ in range(int(read().split()[0])):\n",
    "        n = int(read().split()[0])\n",
    "        perm = [int(x) for x in read().split()]\n",
    "        idx_of = {}\n",
    "        for i, el in enumerate(perm):\n",
    "            idx_of[el] = i\n",
    "\n",
    "        min_idx = 10e30\n",
    "        max_idx = -1\n",
    "        res = 0\n",
    "        for i in range(n):\n",
    "            min_idx = min(min_idx, idx_of[i])\n",
    "            max_idx = max(max_idx, idx_of[i])\n",
    "            size = max_idx - min_idx + 1\n",
    "            attempt_size = 2*i + 1 \n",
    "            a = max(0, max_idx - attempt_size + 1)\n",
    "            b = min(n - 1, min_idx + attempt_size - 1)\n",
    "            res += max(0, b - a + 2 - attempt_size)\n",
    "            attempt_size = 2*i + 2 \n",
    "            a = max(0, max_idx - attempt_size + 1)\n",
    "            b = min(n - 1, min_idx + attempt_size - 1)\n",
    "            res += max(0, b - a + 2 - attempt_size)\n",
    "        print(res)\n",
    "problemG()\n",
    "    "
   ]
  },
  {
   "cell_type": "code",
   "execution_count": null,
   "metadata": {},
   "outputs": [],
   "source": [
    "def problemF():\n",
    "\n",
    "    file = open(\"inputF.txt\")\n",
    "    read = file.readline\n",
    "\n",
    "    for _ in range(int(read().split()[0])):\n",
    "\n",
    "        n = int(read().split()[0])\n",
    "        vals = []\n",
    "        for __ in range(n):\n",
    "            a, b = [int(x) for x in read().split()]\n",
    "            "
   ]
  }
 ],
 "metadata": {
  "kernelspec": {
   "display_name": ".venv",
   "language": "python",
   "name": "python3"
  },
  "language_info": {
   "codemirror_mode": {
    "name": "ipython",
    "version": 3
   },
   "file_extension": ".py",
   "mimetype": "text/x-python",
   "name": "python",
   "nbconvert_exporter": "python",
   "pygments_lexer": "ipython3",
   "version": "3.11.6"
  }
 },
 "nbformat": 4,
 "nbformat_minor": 2
}
