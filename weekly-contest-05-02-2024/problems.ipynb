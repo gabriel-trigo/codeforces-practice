{
 "cells": [
  {
   "cell_type": "code",
   "execution_count": 5,
   "metadata": {},
   "outputs": [
    {
     "name": "stdout",
     "output_type": "stream",
     "text": [
      "4\n",
      "1\n",
      "5\n",
      "3\n",
      "1\n",
      "21\n"
     ]
    }
   ],
   "source": [
    "from math import gcd\n",
    "def problemD():\n",
    "\n",
    "    file = open(\"inputD.txt\")\n",
    "    read = file.readline\n",
    "\n",
    "    for _ in range(int(read().split()[0])):\n",
    "        n = int(read().split()[0])\n",
    "        arr = [int(x) for x in read().split()]\n",
    "        s = sum(arr)\n",
    "        l = 0\n",
    "        res = -1\n",
    "        for el in arr:\n",
    "            l += el\n",
    "            if l * (s - l) > 0:\n",
    "                res = max(res, gcd(l, s - l))\n",
    "        print(res)\n",
    "\n",
    "problemD()"
   ]
  },
  {
   "cell_type": "code",
   "execution_count": 7,
   "metadata": {},
   "outputs": [
    {
     "name": "stdout",
     "output_type": "stream",
     "text": [
      "5\n",
      "3\n",
      "2\n",
      "3\n"
     ]
    }
   ],
   "source": [
    "def problemG():\n",
    "    file = open(\"inputG.txt\")\n",
    "    read = file.readline\n",
    "\n",
    "    for _ in range(int(read().split()[0])):\n",
    "        n = int(read().split()[0])\n",
    "        a = [[i, int(x)] for i, x in enumerate(read().split())]\n",
    "        b = [int(x) for x in read().split()]\n",
    "        bb = [-1] * len(b)\n",
    "\n",
    "        a = sorted(a, key=lambda x: x[1])\n",
    "        for i, el in enumerate(a):\n",
    "            bb[i] = b[el[0]]\n",
    "        \n",
    "        s = sum(bb)\n",
    "        res = s\n",
    "        for x, y in zip(a, bb):\n",
    "            s -= y\n",
    "            res = min(res, max(s, x[1]))\n",
    "        print(res)\n",
    "\n",
    "\n",
    "problemG()\n"
   ]
  },
  {
   "cell_type": "code",
   "execution_count": null,
   "metadata": {},
   "outputs": [],
   "source": [
    "def problemH():\n",
    "\n",
    "    file = open(\"inputH.txt\")\n",
    "    read = file.readline\n",
    "\n",
    "    for _ in range(int(read().split()[0])):\n",
    "        n, m = [int(x) for x in read().split()]\n",
    "        s = read().split()[0]\n",
    "        t = read().split()[0]"
   ]
  }
 ],
 "metadata": {
  "kernelspec": {
   "display_name": ".venv",
   "language": "python",
   "name": "python3"
  },
  "language_info": {
   "codemirror_mode": {
    "name": "ipython",
    "version": 3
   },
   "file_extension": ".py",
   "mimetype": "text/x-python",
   "name": "python",
   "nbconvert_exporter": "python",
   "pygments_lexer": "ipython3",
   "version": "3.11.6"
  }
 },
 "nbformat": 4,
 "nbformat_minor": 2
}
