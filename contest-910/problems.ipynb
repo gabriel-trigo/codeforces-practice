{
 "cells": [
  {
   "cell_type": "code",
   "execution_count": 11,
   "metadata": {},
   "outputs": [
    {
     "name": "stdout",
     "output_type": "stream",
     "text": [
      "2\n",
      "2\n",
      "5\n",
      "0\n",
      "2\n"
     ]
    }
   ],
   "source": [
    "def problemA():\n",
    "    file = open(\"inputA.txt\")\n",
    "    read = file.readline\n",
    "    for _ in range(int(read().split()[0])):\n",
    "        read()\n",
    "        s = read().split()[0]\n",
    "        i = 0\n",
    "        res = 0\n",
    "        while i < len(s):\n",
    "            curr = 0\n",
    "            while i < len(s) and s[i] == '.':\n",
    "                i += 1\n",
    "                curr += 1\n",
    "            if curr == 1: res += 1\n",
    "            if curr == 2: res += 2\n",
    "            if curr > 2: \n",
    "                res = 2\n",
    "                break\n",
    "            i += 1\n",
    "        print(res)\n",
    "problemA()"
   ]
  },
  {
   "cell_type": "code",
   "execution_count": 14,
   "metadata": {},
   "outputs": [
    {
     "name": "stdout",
     "output_type": "stream",
     "text": [
      "1 1 1\n",
      "0 1 0\n",
      "1 0 0\n"
     ]
    }
   ],
   "source": [
    "def problemB():\n",
    "    file = open(\"inputB.txt\")\n",
    "    read = file.readline\n",
    "\n",
    "    def can(a, b, c):\n",
    "        if (b + c) % 2:\n",
    "            return 0\n",
    "        bc = min(b, c)\n",
    "        b -= bc\n",
    "        c -= bc\n",
    "        a += bc\n",
    "        if a != 0:\n",
    "            return 1\n",
    "\n",
    "    for _ in range(int(read().split()[0])):\n",
    "        line = read().split()\n",
    "        a, b, c = int(line[0]), int(line[1]), int(line[2])\n",
    "        print(can(a, b, c), can(b, a, c), can(c, a, b))\n",
    "problemB()"
   ]
  },
  {
   "cell_type": "code",
   "execution_count": 39,
   "metadata": {},
   "outputs": [
    {
     "name": "stdout",
     "output_type": "stream",
     "text": [
      "0\n",
      "1\n",
      "1\n",
      "3\n",
      "1\n"
     ]
    }
   ],
   "source": [
    "import sys\n",
    "from collections import deque\n",
    "\n",
    "def problemC():\n",
    "    file = open(\"inputC.txt\")\n",
    "    read = file.readline\n",
    "    \n",
    "\n",
    "    def run(i, dp):\n",
    "        if children[i] == (0, 0): \n",
    "            dp[i] = 0\n",
    "            return\n",
    "        if chars[i] == 'U':\n",
    "            possibilities = [dp[children[i][x]] for x in range(2) if children[i][x] > 0]\n",
    "            res = 1 + min(possibilities)\n",
    "        if chars[i] == 'L':\n",
    "            if children[i][0] == 0:\n",
    "                res = 1 + dp[children[i][1]]\n",
    "            else:\n",
    "                if children[i][1] == 0:\n",
    "                    res = dp[children[i][0]]\n",
    "                else:\n",
    "                    res = min(\n",
    "                        dp[children[i][0]], \n",
    "                        dp[children[i][1]] + 1\n",
    "                    )\n",
    "        if chars[i] == 'R':\n",
    "            if children[i][1] == 0:\n",
    "                res = 1 + dp[children[i][0]]\n",
    "            else:\n",
    "                if children[i][0] == 0:\n",
    "                    res = dp[children[i][1]]\n",
    "                else:\n",
    "                    res = min(\n",
    "                        dp[children[i][1]], \n",
    "                        dp[children[i][0]] + 1\n",
    "                    )\n",
    "        dp[i] = res\n",
    "        return\n",
    "\n",
    "    for _ in range(int(read().split()[0])):\n",
    "        n = int(read().split()[0])\n",
    "        chars = \"#\" + read().split()[0]\n",
    "        children = {}\n",
    "        for _ in range(n):\n",
    "            a, b = [int(x) for x in read().split()]\n",
    "            children[_ + 1] = (a, b)\n",
    "        dp = [-1] * (n + 1)\n",
    "        order = []\n",
    "        q = deque([1])\n",
    "        while q:\n",
    "            popped = q.popleft()\n",
    "            order.append(popped)\n",
    "            for c in children[popped]:\n",
    "                if c > 0:\n",
    "                    q.append(c)\n",
    "        for x in order[::-1]:\n",
    "            run(x, dp)\n",
    "        print(dp[1])\n",
    "problemC()"
   ]
  },
  {
   "cell_type": "code",
   "execution_count": null,
   "metadata": {},
   "outputs": [],
   "source": []
  }
 ],
 "metadata": {
  "kernelspec": {
   "display_name": ".venv",
   "language": "python",
   "name": "python3"
  },
  "language_info": {
   "codemirror_mode": {
    "name": "ipython",
    "version": 3
   },
   "file_extension": ".py",
   "mimetype": "text/x-python",
   "name": "python",
   "nbconvert_exporter": "python",
   "pygments_lexer": "ipython3",
   "version": "3.11.6"
  }
 },
 "nbformat": 4,
 "nbformat_minor": 2
}
