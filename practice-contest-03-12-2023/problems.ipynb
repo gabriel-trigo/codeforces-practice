{
 "cells": [
  {
   "cell_type": "code",
   "execution_count": 2,
   "metadata": {},
   "outputs": [
    {
     "name": "stdout",
     "output_type": "stream",
     "text": [
      "YES\n",
      "YES\n",
      "NO\n",
      "YES\n"
     ]
    }
   ],
   "source": [
    "def problemA():\n",
    "    file = open(\"inputA.txt\")\n",
    "    read = file.readline\n",
    "    \n",
    "    for _ in range(int(read().split()[0])):\n",
    "        n = int(read().split()[0])\n",
    "        row1 = read().split()[0]\n",
    "        row2 = read().split()[0]\n",
    "        boo = True\n",
    "        for a, b in zip(row1, row2):\n",
    "            if a == '1' and b == '1':\n",
    "                boo = False\n",
    "                print(\"NO\")\n",
    "                break\n",
    "        if boo: print(\"YES\")\n",
    "problemA()"
   ]
  },
  {
   "cell_type": "code",
   "execution_count": 8,
   "metadata": {},
   "outputs": [
    {
     "name": "stdout",
     "output_type": "stream",
     "text": [
      "1 1 3 8\n",
      "-1\n",
      "0 0 0 0 0\n"
     ]
    }
   ],
   "source": [
    "def problemB():\n",
    "    file = open(\"inputB.txt\")\n",
    "    read = file.readline\n",
    "\n",
    "    for _ in range(int(read().split()[0])):\n",
    "        n = int(read().split()[0])\n",
    "        arr = [int(x) for x in read().split()]\n",
    "        res = [arr[0]]\n",
    "        s = arr[0]\n",
    "        boo = True\n",
    "        for i in range(1, n):\n",
    "            if arr[i] <= s and arr[i]:\n",
    "                boo = False\n",
    "                print(-1)\n",
    "                break\n",
    "            res.append(res[-1] + arr[i])\n",
    "            s += arr[i]\n",
    "        if boo: print(\" \".join([str(x) for x in res]))\n",
    "\n",
    "problemB()"
   ]
  },
  {
   "cell_type": "code",
   "execution_count": null,
   "metadata": {},
   "outputs": [],
   "source": [
    "def problemC():\n",
    "    file = open(\"inputC.txt\")\n",
    "    read = file.readline\n",
    "\n",
    "    for _ in range(int(read().split()[0])):\n",
    "        m, n = [int(x) for x in read().split()]\n",
    "        og = [int(x) for x in read().split()]\n",
    "        k = [int(x) for x in read().split()]\n",
    "        new = [int(x) for x in read().split()]\n",
    "        if sum(og) != sum(new): \n",
    "            print(\"No\")\n",
    "            continue\n",
    "\n",
    "        powers_of_m = { m**i for i in range(20) }\n",
    "        i = 0\n",
    "        j = 0\n",
    "        boo = True\n",
    "             \n",
    "\n",
    "        \n",
    "        \n"
   ]
  }
 ],
 "metadata": {
  "kernelspec": {
   "display_name": ".venv",
   "language": "python",
   "name": "python3"
  },
  "language_info": {
   "codemirror_mode": {
    "name": "ipython",
    "version": 3
   },
   "file_extension": ".py",
   "mimetype": "text/x-python",
   "name": "python",
   "nbconvert_exporter": "python",
   "pygments_lexer": "ipython3",
   "version": "3.11.6"
  }
 },
 "nbformat": 4,
 "nbformat_minor": 2
}
