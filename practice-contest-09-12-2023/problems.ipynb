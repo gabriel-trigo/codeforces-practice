{
 "cells": [
  {
   "cell_type": "code",
   "execution_count": 7,
   "metadata": {},
   "outputs": [
    {
     "name": "stdout",
     "output_type": "stream",
     "text": [
      "2\n",
      "2\n",
      "2\n"
     ]
    }
   ],
   "source": [
    "def problemA():\n",
    "    file = open(\"inputA.txt\")\n",
    "    read = file.readline\n",
    "\n",
    "    def isPrime(num):\n",
    "        for i in range(2, int(num**0.5) + 2):\n",
    "            if (num % i) == 0: return False\n",
    "        return True\n",
    "\n",
    "    for _ in range(int(read().split()[0])):\n",
    "        n = int(read().split()[0])\n",
    "        if not isPrime(n + 2): print(2)\n",
    "        else: print(3)\n",
    "\n",
    "problemA()"
   ]
  },
  {
   "cell_type": "code",
   "execution_count": 10,
   "metadata": {},
   "outputs": [
    {
     "name": "stdout",
     "output_type": "stream",
     "text": [
      "YES\n",
      "(())\n",
      "YES\n",
      "()()()\n",
      "NO\n",
      "YES\n",
      "()()()()\n"
     ]
    }
   ],
   "source": [
    "def problemB():\n",
    "    file = open(\"inputB.txt\")\n",
    "    read = file.readline\n",
    "\n",
    "    for _ in range(int(read().split()[0])):\n",
    "        word = read().split()[0]\n",
    "        if word == '()': \n",
    "            print(\"NO\")\n",
    "            continue\n",
    "        print(\"YES\")\n",
    "        res1 = \"()\" * len(word)\n",
    "        res2 = \"(\" * (len(word) - 1) + \"()\" + \")\" * (len(word) - 1)\n",
    "        if res1.replace(word, \".\") != res1: \n",
    "            print(res2)\n",
    "        else: print(res1)\n",
    "\n",
    "problemB()"
   ]
  },
  {
   "cell_type": "code",
   "execution_count": 15,
   "metadata": {},
   "outputs": [
    {
     "name": "stdout",
     "output_type": "stream",
     "text": [
      "8\n",
      "8\n",
      "2\n",
      "12\n"
     ]
    }
   ],
   "source": [
    "def problemC():\n",
    "    file = open(\"inputC.txt\")\n",
    "    read = file.readline\n",
    "\n",
    "    for _ in range(int(read().split()[0])):\n",
    "        n = int(read().split()[0])\n",
    "        row1 = read().split()[0]\n",
    "        row2 = read().split()[0]\n",
    "        # have seen 0, have seen 1, have seen both\n",
    "        dp = [[0, 0, 0, 0] for i in range(n + 1)]\n",
    "        for i in range(n - 1, -1, -1):\n",
    "            if sorted(list(set([row1[i], row2[i]]))) == ['0', '1']:\n",
    "                dp[i][0] = max(2 + dp[i + 1][0], dp[i + 1][3])\n",
    "                dp[i][1] = dp[i][0]\n",
    "                dp[i][2] = dp[i][0]\n",
    "                dp[i][3] = dp[i][0]\n",
    "            if sorted(list(set([row1[i], row2[i]]))) == ['0']:\n",
    "                dp[i][0] = max(1 + dp[i + 1][0], dp[i + 1][1])\n",
    "                dp[i][1] = max(1 + dp[i + 1][0], dp[i + 1][1])\n",
    "                dp[i][2] = max(2 + dp[i + 1][0], dp[i + 1][3])\n",
    "                dp[i][3] = max(2 + dp[i + 1][0], dp[i + 1][3])\n",
    "            if sorted(list(set([row1[i], row2[i]]))) == ['1']:\n",
    "                dp[i][0] = max(0 + dp[i + 1][0], dp[i + 1][2])\n",
    "                dp[i][1] = max(2 + dp[i + 1][0], dp[i + 1][3])\n",
    "                dp[i][2] = max(0 + dp[i + 1][0], dp[i + 1][2])\n",
    "                dp[i][3] = max(2 + dp[i + 1][0], dp[i + 1][3])\n",
    "        \n",
    "        print(dp[0][0])\n",
    "    \n",
    "problemC()"
   ]
  },
  {
   "cell_type": "code",
   "execution_count": 29,
   "metadata": {},
   "outputs": [
    {
     "name": "stdout",
     "output_type": "stream",
     "text": [
      "cc\n",
      "cbaabc\n",
      "aa\n",
      "bb\n",
      "edcbaabcde\n",
      "baaaab\n"
     ]
    }
   ],
   "source": [
    "def problemD():\n",
    "    file = open(\"inputD.txt\")\n",
    "    read = file.readline\n",
    "\n",
    "    for _ in range(int(read().split()[0])):\n",
    "        n = int(read().split()[0])\n",
    "        word = read().split()[0]\n",
    "        i = 0\n",
    "        while i < n - 1:\n",
    "            if word[i + 1] > word[i] or word[i + 1] == word[0]:\n",
    "                break\n",
    "            i += 1\n",
    "        print(word[:i + 1] + word[:i + 1][::-1])\n",
    "problemD()\n"
   ]
  },
  {
   "cell_type": "code",
   "execution_count": 32,
   "metadata": {},
   "outputs": [
    {
     "name": "stdout",
     "output_type": "stream",
     "text": [
      "-1\n",
      "1 4\n",
      "2 6\n",
      "-1\n"
     ]
    }
   ],
   "source": [
    "def problemE():\n",
    "\n",
    "    file = open(\"inputE.txt\")\n",
    "    read = file.readline\n",
    "\n",
    "    for _ in range(int(read().split()[0])):\n",
    "        n = int(read().split()[0])\n",
    "        nums = [int(x) for x in read().split()]\n",
    "        left = 0\n",
    "        right = n - 1\n",
    "        minn = 1\n",
    "        maxx = n\n",
    "        while left < right - 1:\n",
    "            if nums[left] not in [maxx, minn] and nums[right] not in [maxx, minn]: break\n",
    "            if nums[left] == maxx:\n",
    "                left += 1\n",
    "                maxx -= 1\n",
    "            elif nums[left] == minn:\n",
    "                left += 1\n",
    "                minn += 1\n",
    "\n",
    "            if nums[right] == maxx:\n",
    "                right -= 1\n",
    "                maxx -= 1\n",
    "            elif nums[right] == minn:\n",
    "                right -= 1\n",
    "                minn += 1\n",
    "        if right - left > 1:\n",
    "            print(left + 1, right + 1)\n",
    "            continue\n",
    "        print(-1)\n",
    "problemE()  \n"
   ]
  },
  {
   "cell_type": "code",
   "execution_count": 44,
   "metadata": {},
   "outputs": [
    {
     "ename": "KeyboardInterrupt",
     "evalue": "",
     "output_type": "error",
     "traceback": [
      "\u001b[0;31m---------------------------------------------------------------------------\u001b[0m",
      "\u001b[0;31mKeyboardInterrupt\u001b[0m                         Traceback (most recent call last)",
      "\u001b[1;32m/Users/gabrielgtrigo/Github/codeforces-practice/practice-contest-09-12-2023/problems.ipynb Cell 6\u001b[0m line \u001b[0;36m2\n\u001b[1;32m     <a href='vscode-notebook-cell:/Users/gabrielgtrigo/Github/codeforces-practice/practice-contest-09-12-2023/problems.ipynb#W5sZmlsZQ%3D%3D?line=19'>20</a>\u001b[0m             \u001b[39mprint\u001b[39m(y)\n\u001b[1;32m     <a href='vscode-notebook-cell:/Users/gabrielgtrigo/Github/codeforces-practice/practice-contest-09-12-2023/problems.ipynb#W5sZmlsZQ%3D%3D?line=20'>21</a>\u001b[0m             sys\u001b[39m.\u001b[39mstdout\u001b[39m.\u001b[39mflush()\n\u001b[0;32m---> <a href='vscode-notebook-cell:/Users/gabrielgtrigo/Github/codeforces-practice/practice-contest-09-12-2023/problems.ipynb#W5sZmlsZQ%3D%3D?line=21'>22</a>\u001b[0m problemF()\n",
      "\u001b[1;32m/Users/gabrielgtrigo/Github/codeforces-practice/practice-contest-09-12-2023/problems.ipynb Cell 6\u001b[0m line \u001b[0;36m7\n\u001b[1;32m      <a href='vscode-notebook-cell:/Users/gabrielgtrigo/Github/codeforces-practice/practice-contest-09-12-2023/problems.ipynb#W5sZmlsZQ%3D%3D?line=3'>4</a>\u001b[0m file \u001b[39m=\u001b[39m sys\u001b[39m.\u001b[39mstdin\n\u001b[1;32m      <a href='vscode-notebook-cell:/Users/gabrielgtrigo/Github/codeforces-practice/practice-contest-09-12-2023/problems.ipynb#W5sZmlsZQ%3D%3D?line=4'>5</a>\u001b[0m read \u001b[39m=\u001b[39m file\u001b[39m.\u001b[39mreadline\n\u001b[0;32m----> <a href='vscode-notebook-cell:/Users/gabrielgtrigo/Github/codeforces-practice/practice-contest-09-12-2023/problems.ipynb#W5sZmlsZQ%3D%3D?line=6'>7</a>\u001b[0m \u001b[39mfor\u001b[39;00m _ \u001b[39min\u001b[39;00m \u001b[39mrange\u001b[39m(\u001b[39mint\u001b[39m(read()\u001b[39m.\u001b[39msplit()[\u001b[39m0\u001b[39m])):\n\u001b[1;32m      <a href='vscode-notebook-cell:/Users/gabrielgtrigo/Github/codeforces-practice/practice-contest-09-12-2023/problems.ipynb#W5sZmlsZQ%3D%3D?line=7'>8</a>\u001b[0m     n \u001b[39m=\u001b[39m \u001b[39mint\u001b[39m(read()\u001b[39m.\u001b[39msplit()[\u001b[39m0\u001b[39m])\n\u001b[1;32m      <a href='vscode-notebook-cell:/Users/gabrielgtrigo/Github/codeforces-practice/practice-contest-09-12-2023/problems.ipynb#W5sZmlsZQ%3D%3D?line=8'>9</a>\u001b[0m     arr \u001b[39m=\u001b[39m \u001b[39msorted\u001b[39m([\u001b[39mint\u001b[39m(x) \u001b[39mfor\u001b[39;00m x \u001b[39min\u001b[39;00m read()\u001b[39m.\u001b[39msplit()])\n",
      "\u001b[0;31mKeyboardInterrupt\u001b[0m: "
     ]
    }
   ],
   "source": [
    "import sys\n",
    "def problemF():\n",
    "\n",
    "    file = sys.stdin\n",
    "    read = file.readline\n",
    "\n",
    "    for _ in range(int(read().split()[0])):\n",
    "        n = int(read().split()[0])\n",
    "        arr = sorted([int(x) for x in read().split()])\n",
    "        move = n\n",
    "        for i, el in enumerate(arr):\n",
    "            if el > i:\n",
    "                move = i\n",
    "                break\n",
    "        print(move)\n",
    "        sys.stdout.flush()\n",
    "        while True:\n",
    "            y = int(read().split()[0])\n",
    "            if y == -1: break\n",
    "            print(y)\n",
    "            sys.stdout.flush()\n",
    "problemF()"
   ]
  },
  {
   "cell_type": "code",
   "execution_count": 65,
   "metadata": {},
   "outputs": [
    {
     "name": "stdout",
     "output_type": "stream",
     "text": [
      "3 2 1\n",
      "2 4 3 1\n",
      "-1\n",
      "3 2 6 4 5 12 7 8 9 10 11 1\n",
      "4 2 3 12 5 6 7 8 9 10 11 1\n",
      "2 1\n",
      "-1\n",
      "4 2 3 20 5 6 7 8 9 10 11 12 13 14 15 16 17 18 19 1\n"
     ]
    }
   ],
   "source": [
    "def problemG():\n",
    "    file = open(\"inputG.txt\")\n",
    "    read = file.readline\n",
    "\n",
    "    def factor(num):\n",
    "        factors = []\n",
    "        for f in range(2, int(num) + 1):\n",
    "            while not (num % f):\n",
    "                factors.append(f)\n",
    "                num //= f\n",
    "        return factors\n",
    "\n",
    "    for _ in range(int(read().split()[0])):\n",
    "        n, x = [int(x) for x in read().split()]\n",
    "        res = [i + 1 for i in range(n)]\n",
    "        res[0] = x\n",
    "        res[-1] = 1\n",
    "\n",
    "        if x == 1 and n > 1:\n",
    "            print(-1)\n",
    "        \n",
    "        if n % x:\n",
    "            print(-1)\n",
    "            continue\n",
    "        factors = factor(n // x)\n",
    "        for f in factors:\n",
    "            res[x - 1] = x * f\n",
    "            x = x * f\n",
    "    \n",
    "        print(\" \".join(str(el) for el in res))    \n",
    "\n",
    "problemG()"
   ]
  },
  {
   "cell_type": "code",
   "execution_count": 70,
   "metadata": {},
   "outputs": [
    {
     "name": "stdout",
     "output_type": "stream",
     "text": [
      "2\n",
      "0\n",
      "1\n",
      "3\n"
     ]
    }
   ],
   "source": [
    "def problemH():\n",
    "\n",
    "    file = open(\"inputH.txt\")\n",
    "    read = file.readline\n",
    "\n",
    "    for _ in range(int(read().split()[0])):\n",
    "\n",
    "        n = int(read().split()[0])\n",
    "        arr = [int(x) for x in read().split()]\n",
    "        indexOf = {}\n",
    "        for i, el in enumerate(arr):\n",
    "            indexOf[el] = i\n",
    "\n",
    "        if n % 2:\n",
    "            left = n // 2\n",
    "            right = n // 2 + 2\n",
    "        else:\n",
    "            left = n // 2\n",
    "            right = n // 2 + 1\n",
    "\n",
    "        while left > 0:\n",
    "            if indexOf[left] < indexOf[left + 1] and indexOf[right] > indexOf[right - 1]:\n",
    "                left -= 1\n",
    "                right += 1\n",
    "                continue\n",
    "            break\n",
    "        print(left)\n",
    "problemH()"
   ]
  },
  {
   "cell_type": "code",
   "execution_count": null,
   "metadata": {},
   "outputs": [],
   "source": [
    "def problemI():\n",
    "\n",
    "    file = open(\"inputI.txt\")\n",
    "    read = file.readline\n",
    "\n",
    "    for _  in range(int(read().split()[0])):\n",
    "        n = int(read().split()[0])\n",
    "        digsum = sum([int(c) for c in str(n)])\n",
    "        triplets = set()\n",
    "        \n",
    "\n",
    "        for i in range(0, digsum + 1):\n",
    "            for j in range(0, digsum + 1):\n",
    "                other = digsum - i - j:\n",
    "                triplets.add()\n"
   ]
  }
 ],
 "metadata": {
  "kernelspec": {
   "display_name": ".venv",
   "language": "python",
   "name": "python3"
  },
  "language_info": {
   "codemirror_mode": {
    "name": "ipython",
    "version": 3
   },
   "file_extension": ".py",
   "mimetype": "text/x-python",
   "name": "python",
   "nbconvert_exporter": "python",
   "pygments_lexer": "ipython3",
   "version": "3.11.6"
  }
 },
 "nbformat": 4,
 "nbformat_minor": 2
}
